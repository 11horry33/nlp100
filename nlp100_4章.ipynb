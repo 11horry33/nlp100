{
  "nbformat": 4,
  "nbformat_minor": 0,
  "metadata": {
    "colab": {
      "provenance": []
    },
    "kernelspec": {
      "name": "python3",
      "display_name": "Python 3"
    },
    "language_info": {
      "name": "python"
    }
  },
  "cells": [
    {
      "cell_type": "code",
      "source": [
        "# グラフで日本語を使うため\n",
        "\n",
        "!pip install japanize_matplotlib"
      ],
      "metadata": {
        "colab": {
          "base_uri": "https://localhost:8080/"
        },
        "id": "aOxcmXtVG-B_",
        "outputId": "54ebf9d0-06bb-46ea-fba2-a71746620c8f"
      },
      "execution_count": null,
      "outputs": [
        {
          "output_type": "stream",
          "name": "stdout",
          "text": [
            "Looking in indexes: https://pypi.org/simple, https://us-python.pkg.dev/colab-wheels/public/simple/\n",
            "Collecting japanize_matplotlib\n",
            "  Downloading japanize-matplotlib-1.1.3.tar.gz (4.1 MB)\n",
            "\u001b[K     |████████████████████████████████| 4.1 MB 5.3 MB/s \n",
            "\u001b[?25hRequirement already satisfied: matplotlib in /usr/local/lib/python3.8/dist-packages (from japanize_matplotlib) (3.2.2)\n",
            "Requirement already satisfied: cycler>=0.10 in /usr/local/lib/python3.8/dist-packages (from matplotlib->japanize_matplotlib) (0.11.0)\n",
            "Requirement already satisfied: pyparsing!=2.0.4,!=2.1.2,!=2.1.6,>=2.0.1 in /usr/local/lib/python3.8/dist-packages (from matplotlib->japanize_matplotlib) (3.0.9)\n",
            "Requirement already satisfied: numpy>=1.11 in /usr/local/lib/python3.8/dist-packages (from matplotlib->japanize_matplotlib) (1.21.6)\n",
            "Requirement already satisfied: python-dateutil>=2.1 in /usr/local/lib/python3.8/dist-packages (from matplotlib->japanize_matplotlib) (2.8.2)\n",
            "Requirement already satisfied: kiwisolver>=1.0.1 in /usr/local/lib/python3.8/dist-packages (from matplotlib->japanize_matplotlib) (1.4.4)\n",
            "Requirement already satisfied: six>=1.5 in /usr/local/lib/python3.8/dist-packages (from python-dateutil>=2.1->matplotlib->japanize_matplotlib) (1.15.0)\n",
            "Building wheels for collected packages: japanize-matplotlib\n",
            "  Building wheel for japanize-matplotlib (setup.py) ... \u001b[?25l\u001b[?25hdone\n",
            "  Created wheel for japanize-matplotlib: filename=japanize_matplotlib-1.1.3-py3-none-any.whl size=4120275 sha256=b9a7880dc619d93ac967bf59d95c39ba070a465af4d38cd44a93c6c86f754afb\n",
            "  Stored in directory: /root/.cache/pip/wheels/4f/ca/96/4cc5e192421cceb077fbf4ffec533382edd416fd3fa0af0bbd\n",
            "Successfully built japanize-matplotlib\n",
            "Installing collected packages: japanize-matplotlib\n",
            "Successfully installed japanize-matplotlib-1.1.3\n"
          ]
        }
      ]
    },
    {
      "cell_type": "code",
      "source": [
        "# Mecabインストール\n",
        "\n",
        "! pip install mecab-python3\n",
        "! pip install unidic-lite"
      ],
      "metadata": {
        "colab": {
          "base_uri": "https://localhost:8080/"
        },
        "id": "GSLizteOI1Tf",
        "outputId": "b36c005d-d91b-4d43-fbc2-74ee9e2e6455"
      },
      "execution_count": null,
      "outputs": [
        {
          "output_type": "stream",
          "name": "stdout",
          "text": [
            "Looking in indexes: https://pypi.org/simple, https://us-python.pkg.dev/colab-wheels/public/simple/\n",
            "Collecting mecab-python3\n",
            "  Downloading mecab_python3-1.0.6-cp38-cp38-manylinux_2_17_x86_64.manylinux2014_x86_64.whl (577 kB)\n",
            "\u001b[K     |████████████████████████████████| 577 kB 5.2 MB/s \n",
            "\u001b[?25hInstalling collected packages: mecab-python3\n",
            "Successfully installed mecab-python3-1.0.6\n",
            "Looking in indexes: https://pypi.org/simple, https://us-python.pkg.dev/colab-wheels/public/simple/\n",
            "Collecting unidic-lite\n",
            "  Downloading unidic-lite-1.0.8.tar.gz (47.4 MB)\n",
            "\u001b[K     |████████████████████████████████| 47.4 MB 92 kB/s \n",
            "\u001b[?25hBuilding wheels for collected packages: unidic-lite\n",
            "  Building wheel for unidic-lite (setup.py) ... \u001b[?25l\u001b[?25hdone\n",
            "  Created wheel for unidic-lite: filename=unidic_lite-1.0.8-py3-none-any.whl size=47658837 sha256=85554a54b337a73af0e634a3ea68344827a9c9908df2a23187a4a593cc748890\n",
            "  Stored in directory: /root/.cache/pip/wheels/8c/dd/8f/e21fc192dcd38ae31e1185ce4e66e12df4e811e3d469866e15\n",
            "Successfully built unidic-lite\n",
            "Installing collected packages: unidic-lite\n",
            "Successfully installed unidic-lite-1.0.8\n"
          ]
        }
      ]
    },
    {
      "cell_type": "code",
      "source": [
        "# 形態素解析\n",
        "\n",
        "import MeCab\n",
        "\n",
        "fout = open('neko.txt.mecab', 'w')\n",
        "fin = open('neko.txt', 'r')\n",
        "tokenizer = MeCab.Tagger()\n",
        "for line in fin:\n",
        "    fout.write(\"\".join([token for token in tokenizer.parse(line.strip())]) + \"\\n\")\n",
        "fin.close()\n",
        "fout.close()"
      ],
      "metadata": {
        "id": "L0iJKHemI5VW"
      },
      "execution_count": null,
      "outputs": []
    },
    {
      "cell_type": "code",
      "execution_count": null,
      "metadata": {
        "id": "ksFaYZWNJd8t",
        "colab": {
          "base_uri": "https://localhost:8080/"
        },
        "outputId": "52062d2c-fb1c-4d90-d39d-0548ba4496c8"
      },
      "outputs": [
        {
          "output_type": "execute_result",
          "data": {
            "text/plain": [
              "[{'surface': '一', 'base': '一', 'pos': '名詞', 'pos1': '数詞'},\n",
              " {'surface': '吾輩', 'base': '我が輩', 'pos': '代名詞', 'pos1': ''},\n",
              " {'surface': 'は', 'base': 'は', 'pos': '助詞', 'pos1': '係助詞'},\n",
              " {'surface': '猫', 'base': '猫', 'pos': '名詞', 'pos1': '普通名詞'},\n",
              " {'surface': 'で', 'base': 'だ', 'pos': '助動詞', 'pos1': ''},\n",
              " {'surface': 'ある', 'base': '有る', 'pos': '動詞', 'pos1': '非自立可能'},\n",
              " {'surface': '。', 'base': '。', 'pos': '補助記号', 'pos1': '句点'},\n",
              " {'surface': '名前', 'base': '名前', 'pos': '名詞', 'pos1': '普通名詞'},\n",
              " {'surface': 'は', 'base': 'は', 'pos': '助詞', 'pos1': '係助詞'},\n",
              " {'surface': 'まだ', 'base': '未だ', 'pos': '副詞', 'pos1': ''},\n",
              " {'surface': '無い', 'base': '無い', 'pos': '形容詞', 'pos1': '非自立可能'},\n",
              " {'surface': '。', 'base': '。', 'pos': '補助記号', 'pos1': '句点'},\n",
              " {'surface': 'どこ', 'base': '何処', 'pos': '代名詞', 'pos1': ''},\n",
              " {'surface': 'で', 'base': 'で', 'pos': '助詞', 'pos1': '格助詞'},\n",
              " {'surface': '生れ', 'base': '生まれる', 'pos': '動詞', 'pos1': '一般'},\n",
              " {'surface': 'た', 'base': 'た', 'pos': '助動詞', 'pos1': ''},\n",
              " {'surface': 'か', 'base': 'か', 'pos': '助詞', 'pos1': '終助詞'},\n",
              " {'surface': 'と', 'base': 'と', 'pos': '助詞', 'pos1': '格助詞'},\n",
              " {'surface': 'んと', 'base': 'うんと', 'pos': '感動詞', 'pos1': 'フィラー'},\n",
              " {'surface': '見当', 'base': '見当', 'pos': '名詞', 'pos1': '普通名詞'},\n",
              " {'surface': 'が', 'base': 'が', 'pos': '助詞', 'pos1': '格助詞'},\n",
              " {'surface': 'つか', 'base': '付く', 'pos': '動詞', 'pos1': '非自立可能'},\n",
              " {'surface': 'ぬ', 'base': 'ず', 'pos': '助動詞', 'pos1': ''},\n",
              " {'surface': '。', 'base': '。', 'pos': '補助記号', 'pos1': '句点'},\n",
              " {'surface': '何', 'base': '何', 'pos': '代名詞', 'pos1': ''},\n",
              " {'surface': 'で', 'base': 'で', 'pos': '助詞', 'pos1': '格助詞'},\n",
              " {'surface': 'も', 'base': 'も', 'pos': '助詞', 'pos1': '係助詞'},\n",
              " {'surface': '薄暗い', 'base': '薄暗い', 'pos': '形容詞', 'pos1': '一般'},\n",
              " {'surface': 'じめじめ', 'base': 'じめじめ', 'pos': '副詞', 'pos1': ''},\n",
              " {'surface': 'し', 'base': '為る', 'pos': '動詞', 'pos1': '非自立可能'}]"
            ]
          },
          "metadata": {},
          "execution_count": 62
        }
      ],
      "source": [
        "#30. 形態素解析結果の読み込み\n",
        "\n",
        "fin = open('neko.txt.mecab', 'r')\n",
        "text = fin.readlines()\n",
        "seg_list = []\n",
        "for line in text:\n",
        "  if line == 'EOS\\n'or line == '\\n':\n",
        "    continue\n",
        "  seg_word = line.split('\\t')\n",
        "  pos = seg_word[4].split('-')\n",
        "  if len(pos)>1:\n",
        "    pos1 = pos[1]\n",
        "  else:\n",
        "    pos1 = ''\n",
        "  seg_list.append({'surface':seg_word[0], 'base':seg_word[3], 'pos':pos[0], 'pos1':pos1})\n",
        "\n",
        "seg_list[:30]"
      ]
    },
    {
      "cell_type": "code",
      "source": [
        "#31. 動詞\n",
        "\n",
        "ans = set()\n",
        "for word in seg_list:\n",
        "  if word['pos'] == '動詞':\n",
        "    ans.add(word['surface'])\n",
        " \n",
        "print(list(ans)[:10])"
      ],
      "metadata": {
        "id": "fpS9mVsTJmk9",
        "colab": {
          "base_uri": "https://localhost:8080/"
        },
        "outputId": "ef49fe94-c6d4-4741-d140-e852ea5cbb05"
      },
      "execution_count": null,
      "outputs": [
        {
          "output_type": "stream",
          "name": "stdout",
          "text": [
            "['休む', '限ら', '呼びつけ', '翳す', '近付く', '引き受ける', '生れる', '息ん', 'ひっくり返る', 'ごまかす']\n"
          ]
        }
      ]
    },
    {
      "cell_type": "code",
      "source": [
        "#32. 動詞の基本形\n",
        "\n",
        "ans = set()\n",
        "for word in seg_list:\n",
        "  if word['pos'] == '動詞':\n",
        "    ans.add(word['base'])\n",
        " \n",
        "print(list(ans)[:10])"
      ],
      "metadata": {
        "id": "vBEcCks9JsA2",
        "colab": {
          "base_uri": "https://localhost:8080/"
        },
        "outputId": "ee1c794c-4c9b-461b-8477-619c71feeb61"
      },
      "execution_count": null,
      "outputs": [
        {
          "output_type": "stream",
          "name": "stdout",
          "text": [
            "['休む', '迫り出す', '扱く', '翳す', '近付く', '引き受ける', 'ごまかす', '踏み潰す', '染み出す', '戯らす']\n"
          ]
        }
      ]
    },
    {
      "cell_type": "code",
      "source": [
        "#33. 「AのB」\n",
        "\n",
        "ans = set()\n",
        "for idx in range(1, len(seg_list)-1):\n",
        "  if seg_list[idx-1]['pos'] == '名詞' and seg_list[idx]['surface'] == 'の' and seg_list[idx+1]['pos'] == '名詞':\n",
        "    ans.add(seg_list[idx-1]['surface'] + seg_list[idx]['surface'] + seg_list[idx+1]['surface'])\n",
        "\n",
        "print(list(ans)[:10])"
      ],
      "metadata": {
        "id": "ISuB6xm1JwGN",
        "colab": {
          "base_uri": "https://localhost:8080/"
        },
        "outputId": "26ffbe34-77bd-4cdf-dd09-126418bdbeb7"
      },
      "execution_count": null,
      "outputs": [
        {
          "output_type": "stream",
          "name": "stdout",
          "text": [
            "['年の歳月', '三の条件', '他の局部', '尻のところ', '半の甲', '会社の人', '画の未練', '隣りの三毛', '人の中', '書生の掌']\n"
          ]
        }
      ]
    },
    {
      "cell_type": "code",
      "source": [
        "#34. 名詞の連接\n",
        "\n",
        "ans = set()\n",
        "count = 0\n",
        "nouns = ''\n",
        "for word in seg_list:\n",
        "  if word['pos'] == '名詞':\n",
        "    nouns += word['surface']\n",
        "    # pythonでは++は使えないらしい\n",
        "    count += 1\n",
        "  elif count >= 2:\n",
        "    ans.add(nouns)\n",
        "    count = 0\n",
        "    nouns = ''\n",
        "  else:\n",
        "    count = 0\n",
        "    nouns = ''\n",
        "\n",
        "print(list(ans)[:10])  "
      ],
      "metadata": {
        "id": "qcKQi0meJzhV",
        "colab": {
          "base_uri": "https://localhost:8080/"
        },
        "outputId": "1d5dad62-f7b4-47d1-c4d3-f7fe2f179b01"
      },
      "execution_count": null,
      "outputs": [
        {
          "output_type": "stream",
          "name": "stdout",
          "text": [
            "['江戸趣味', '三坪', '四海天下', '三方面', 'すべて人間', '日藤', '迷惑千万', '盗難告訴', '通り手のひら', '朝鮮仁参']\n"
          ]
        }
      ]
    },
    {
      "cell_type": "code",
      "source": [
        "#35. 単語の出現頻度\n",
        "\n",
        "from collections import Counter\n",
        "\n",
        "#表層系を抽出\n",
        "words = []\n",
        "for word in seg_list:\n",
        "    words.append(word['surface'])\n",
        "\n",
        "#上位10単語を出力\n",
        "word_cnt = Counter(words)\n",
        "word_cnt_sort = word_cnt.most_common()\n",
        "for i in range(10):\n",
        "  print(word_cnt_sort[i])"
      ],
      "metadata": {
        "colab": {
          "base_uri": "https://localhost:8080/"
        },
        "id": "1o8K3stA_eTB",
        "outputId": "45e85a28-22c5-4e3f-fd24-f1d31904356b"
      },
      "execution_count": null,
      "outputs": [
        {
          "output_type": "stream",
          "name": "stdout",
          "text": [
            "('の', 9541)\n",
            "('。', 7486)\n",
            "('て', 7418)\n",
            "('に', 7060)\n",
            "('、', 6773)\n",
            "('は', 6501)\n",
            "('と', 6156)\n",
            "('を', 6119)\n",
            "('が', 5394)\n",
            "('で', 4543)\n"
          ]
        }
      ]
    },
    {
      "cell_type": "code",
      "source": [
        "#36. 頻度上位10語\n",
        "\n",
        "from collections import Counter\n",
        "import matplotlib.pyplot as plt\n",
        "\n",
        "#表層系を抽出\n",
        "words = []\n",
        "for word in seg_list:\n",
        "    words.append(word['surface'])\n",
        "\n",
        "#単語の集計＋並び替え\n",
        "word_cnt = Counter(words)\n",
        "word_cnt_sort = word_cnt.most_common()\n",
        "\n",
        "#上位10単語をプロット\n",
        "x = []\n",
        "height = []\n",
        "for i in word_cnt_sort[:10]:\n",
        "  x.append(i[0])\n",
        "  height.append(i[1])\n",
        "\n",
        "plt.xlabel('単語')\n",
        "plt.ylabel('出現頻度')\n",
        "plt.bar(x, height)"
      ],
      "metadata": {
        "colab": {
          "base_uri": "https://localhost:8080/",
          "height": 299
        },
        "id": "-wDmJFYLBqDn",
        "outputId": "69bb8fd1-366c-4908-f06d-1aae1d0e3400"
      },
      "execution_count": null,
      "outputs": [
        {
          "output_type": "execute_result",
          "data": {
            "text/plain": [
              "<BarContainer object of 10 artists>"
            ]
          },
          "metadata": {},
          "execution_count": 97
        },
        {
          "output_type": "display_data",
          "data": {
            "text/plain": [
              "<Figure size 432x288 with 1 Axes>"
            ],
            "image/png": "[encoded data removed]"
          },
          "metadata": {
            "needs_background": "light"
          }
        }
      ]
    },
    {
      "cell_type": "code",
      "source": [
        "#37. 「猫」と共起頻度の高い上位10語\n",
        "\n",
        "from collections import Counter\n",
        "\n",
        "#単語分割した文章を作っている。\n",
        "sentences = []\n",
        "tmp = []\n",
        "for line in text:\n",
        "  if line == '\\n':\n",
        "    continue\n",
        "  if line == 'EOS\\n':\n",
        "    sentences.append(tmp)\n",
        "    tmp = []\n",
        "    continue\n",
        "  seg_word = line.split('\\t')\n",
        "  tmp.append(seg_word[0])\n",
        "\n",
        "#文に猫があるとき、その他の単語を加える。\n",
        "cooccurrence = []\n",
        "for sentence in sentences:\n",
        "  if '猫' in sentence:\n",
        "    for word in sentence:\n",
        "      cooccurrence.append(word)\n",
        "\n",
        "#単語の集計＋並び替え（猫は削除）\n",
        "cooccurrence_cnt = Counter(cooccurrence)\n",
        "del cooccurrence_cnt['猫']\n",
        "cooccurrence_cnt_sort = cooccurrence_cnt.most_common()\n",
        "\n",
        "#上位10単語をプロット\n",
        "x = []\n",
        "height = []\n",
        "for i in cooccurrence_cnt_sort[:10]:\n",
        "  x.append(i[0])\n",
        "  height.append(i[1])\n",
        "\n",
        "plt.xlabel('単語')\n",
        "plt.ylabel('出現頻度')\n",
        "plt.bar(x, height)"
      ],
      "metadata": {
        "colab": {
          "base_uri": "https://localhost:8080/",
          "height": 296
        },
        "id": "aG1_mDGmHX_8",
        "outputId": "051a1066-3cae-4cd1-b1a6-260563d0facf"
      },
      "execution_count": null,
      "outputs": [
        {
          "output_type": "execute_result",
          "data": {
            "text/plain": [
              "<BarContainer object of 10 artists>"
            ]
          },
          "metadata": {},
          "execution_count": 98
        },
        {
          "output_type": "display_data",
          "data": {
            "text/plain": [
              "<Figure size 432x288 with 1 Axes>"
            ],
            "image/png": "[encoded data removed]"
          },
          "metadata": {
            "needs_background": "light"
          }
        }
      ]
    },
    {
      "cell_type": "code",
      "source": [
        "#38. ヒストグラム\n",
        "\n",
        "from collections import Counter\n",
        "import matplotlib.pyplot as plt\n",
        "\n",
        "#表層系を抽出\n",
        "words = []\n",
        "for word in seg_list:\n",
        "    words.append(word['surface'])\n",
        "\n",
        "#単語の集計\n",
        "word_cnt = Counter(words)\n",
        "\n",
        "plt.xlabel('出現頻度')\n",
        "plt.ylabel('種類数')\n",
        "plt.hist(word_cnt.values())"
      ],
      "metadata": {
        "colab": {
          "base_uri": "https://localhost:8080/",
          "height": 367
        },
        "id": "CrMwO8kNW7ts",
        "outputId": "436d752e-d3d8-4892-eada-fa85bf047c8c"
      },
      "execution_count": null,
      "outputs": [
        {
          "output_type": "execute_result",
          "data": {
            "text/plain": [
              "(array([1.3727e+04, 1.0000e+01, 5.0000e+00, 3.0000e+00, 2.0000e+00,\n",
              "        1.0000e+00, 3.0000e+00, 4.0000e+00, 0.0000e+00, 1.0000e+00]),\n",
              " array([1.000e+00, 9.550e+02, 1.909e+03, 2.863e+03, 3.817e+03, 4.771e+03,\n",
              "        5.725e+03, 6.679e+03, 7.633e+03, 8.587e+03, 9.541e+03]),\n",
              " <a list of 10 Patch objects>)"
            ]
          },
          "metadata": {},
          "execution_count": 99
        },
        {
          "output_type": "display_data",
          "data": {
            "text/plain": [
              "<Figure size 432x288 with 1 Axes>"
            ],
            "image/png": "[encoded data removed]"
          },
          "metadata": {
            "needs_background": "light"
          }
        }
      ]
    },
    {
      "cell_type": "code",
      "source": [
        "#39. Zipfの法則\n",
        "\n",
        "from collections import Counter\n",
        "import matplotlib.pyplot as plt\n",
        "import numpy as np\n",
        "\n",
        "#表層系を抽出\n",
        "words = []\n",
        "for word in seg_list:\n",
        "    words.append(word['surface'])\n",
        "\n",
        "#単語の集計＋並び替え\n",
        "word_cnt = Counter(words)\n",
        "word_cnt_sort = word_cnt.most_common()\n",
        "\n",
        "values = [word[1] for word in word_cnt_sort]\n",
        "plt.scatter(range(1, len(values)+1), values)\n",
        "#ログスケールにする\n",
        "plt.xscale('log')\n",
        "plt.yscale('log')\n",
        "plt.xlabel('出現頻度順位')\n",
        "plt.ylabel('出現頻度')\n",
        "plt.show()"
      ],
      "metadata": {
        "colab": {
          "base_uri": "https://localhost:8080/",
          "height": 283
        },
        "id": "HLQr-G3yZF8W",
        "outputId": "7eca49ae-bcfc-48e6-d5d5-79da9da6a969"
      },
      "execution_count": null,
      "outputs": [
        {
          "output_type": "display_data",
          "data": {
            "text/plain": [
              "<Figure size 432x288 with 1 Axes>"
            ],
            "image/png": "[encoded data removed]"
          },
          "metadata": {
            "needs_background": "light"
          }
        }
      ]
    }
  ]
}