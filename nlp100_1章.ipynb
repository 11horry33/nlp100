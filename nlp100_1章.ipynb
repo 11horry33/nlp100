{
  "nbformat": 4,
  "nbformat_minor": 0,
  "metadata": {
    "colab": {
      "provenance": []
    },
    "kernelspec": {
      "name": "python3",
      "display_name": "Python 3"
    },
    "language_info": {
      "name": "python"
    }
  },
  "cells": [
    {
      "cell_type": "code",
      "execution_count": 1,
      "metadata": {
        "colab": {
          "base_uri": "https://localhost:8080/"
        },
        "id": "0YCu8CsgTUiS",
        "outputId": "05ff7d21-5c3a-4a11-d861-1ee09e02f1e4"
      },
      "outputs": [
        {
          "output_type": "stream",
          "name": "stdout",
          "text": [
            "desserts\n",
            "esr\n"
          ]
        }
      ],
      "source": [
        "#00.文字列の逆順\n",
        "\n",
        "string = 'stressed'\n",
        "string1 = string[::-1]\n",
        "string2 = string[6:1:-2] # 逆向きの場合に注意する\n",
        "print(string1)\n",
        "print(string2)"
      ]
    },
    {
      "cell_type": "code",
      "source": [
        "#01. 「パタトクカシーー」\n",
        "\n",
        "string = 'パタトクカシー'\n",
        "ans = string[::2] # 変数名を変える\n",
        "print(ans)"
      ],
      "metadata": {
        "colab": {
          "base_uri": "https://localhost:8080/"
        },
        "id": "MetK61kRXB3w",
        "outputId": "aabc8804-598a-44ca-90a4-a3d5a461a519"
      },
      "execution_count": 2,
      "outputs": [
        {
          "output_type": "stream",
          "name": "stdout",
          "text": [
            "パトカー\n"
          ]
        }
      ]
    },
    {
      "cell_type": "code",
      "source": [
        "#02. 「パトカー」＋「タクシー」＝「パタトクカシー」\n",
        "\n",
        "string1 = 'パトカー'\n",
        "string2 = 'タクシー'\n",
        "ans = ''\n",
        "\n",
        "for i, j in zip(string1, string2): #ハードコーディング　zip関数(短い方に揃えられる)\n",
        "  ans += i\n",
        "  ans += j\n",
        "\n",
        "print(ans)"
      ],
      "metadata": {
        "colab": {
          "base_uri": "https://localhost:8080/"
        },
        "id": "_8agbM6KXpIf",
        "outputId": "f5092015-c48d-4fd3-8f1b-0a2969c3e5b3"
      },
      "execution_count": 3,
      "outputs": [
        {
          "output_type": "stream",
          "name": "stdout",
          "text": [
            "パタトクカシーー\n"
          ]
        }
      ]
    },
    {
      "cell_type": "code",
      "source": [
        "#03. 円周率\n",
        "\n",
        "import re\n",
        "text = 'Now I need a drink, alcoholic of course, after the heavy lectures involving quantum mechanics.'\n",
        "text = re.sub('[,.]', '', text)\n",
        "text = text.split(' ')\n",
        "ans = []\n",
        "\n",
        "for word in text:\n",
        "  ans.append(len(word))\n",
        "\n",
        "print(ans)"
      ],
      "metadata": {
        "colab": {
          "base_uri": "https://localhost:8080/"
        },
        "id": "VuDBv1y3ZdXC",
        "outputId": "22702753-5d37-414d-a6f3-43b914abfc13"
      },
      "execution_count": 4,
      "outputs": [
        {
          "output_type": "stream",
          "name": "stdout",
          "text": [
            "[3, 1, 4, 1, 5, 9, 2, 6, 5, 3, 5, 8, 9, 7, 9]\n"
          ]
        }
      ]
    },
    {
      "cell_type": "code",
      "source": [
        "#04. 元素記号\n",
        "\n",
        "import re\n",
        "text = 'Hi He Lied Because Boron Could Not Oxidize Fluorine. New Nations Might Also Sign Peace Security Clause. Arthur King Can.'\n",
        "text = re.sub('[.]', '', text)\n",
        "text = text.split(' ')\n",
        "num = [1,5,6,7,8,9,15,16,19]\n",
        "ans = {}\n",
        "\n",
        "for idx, word in enumerate(text):\n",
        "  if idx + 1 in num:\n",
        "    ans[word[:1]] = idx + 1\n",
        "  else:\n",
        "    ans[word[:2]] = idx + 1\n",
        "\n",
        "print(ans)"
      ],
      "metadata": {
        "colab": {
          "base_uri": "https://localhost:8080/"
        },
        "id": "UGcmL718dI_l",
        "outputId": "f6a89a44-14a2-4102-8c8f-6e0c7050d1c5"
      },
      "execution_count": 5,
      "outputs": [
        {
          "output_type": "stream",
          "name": "stdout",
          "text": [
            "{'H': 1, 'He': 2, 'Li': 3, 'Be': 4, 'B': 5, 'C': 6, 'N': 7, 'O': 8, 'F': 9, 'Ne': 10, 'Na': 11, 'Mi': 12, 'Al': 13, 'Si': 14, 'P': 15, 'S': 16, 'Cl': 17, 'Ar': 18, 'K': 19, 'Ca': 20}\n"
          ]
        }
      ]
    },
    {
      "cell_type": "code",
      "source": [
        "#05. n-gram\n",
        "\n",
        "def ngram(n, text):\n",
        "  ngram_list = []\n",
        "  for i in range(len(text)-n+1):\n",
        "    ngram_list.append(text[i:i+n])\n",
        "  return ngram_list\n",
        "\n",
        "text = 'I am an NLPer'\n",
        "print(ngram(2, text.split()))\n",
        "print(ngram(2, text))\n",
        "print(ngram(3, text.split()))\n"
      ],
      "metadata": {
        "id": "X48xgtPfcdMm",
        "colab": {
          "base_uri": "https://localhost:8080/"
        },
        "outputId": "0eeb2999-0b90-45cd-ef8a-9cb63edb3d1d"
      },
      "execution_count": 6,
      "outputs": [
        {
          "output_type": "stream",
          "name": "stdout",
          "text": [
            "[['I', 'am'], ['am', 'an'], ['an', 'NLPer']]\n",
            "['I ', ' a', 'am', 'm ', ' a', 'an', 'n ', ' N', 'NL', 'LP', 'Pe', 'er']\n",
            "[['I', 'am', 'an'], ['am', 'an', 'NLPer']]\n"
          ]
        }
      ]
    },
    {
      "cell_type": "code",
      "source": [
        "#06. 集合\n",
        "\n",
        "def ngram(n, text):\n",
        "  ngram_list = []\n",
        "  for i in range(len(text)-n+1):\n",
        "    ngram_list.append(text[i:i+n])\n",
        "  return ngram_list\n",
        "\n",
        "text1 = 'paraparaparadise'\n",
        "text2 = 'paragraph'\n",
        "X = set(ngram(2, text1))\n",
        "Y = set(ngram(2, text2))\n",
        "print('和集合：', X|Y)\n",
        "print('積集合：', X&Y)\n",
        "print('差集合：', X-Y)\n",
        "\n",
        "if 'se' in X:\n",
        "  print('Xにseは含まれます')\n",
        "else:\n",
        "  print('Xにseは含まれません')\n",
        "\n",
        "if 'se' in Y:\n",
        "  print('Yにseは含まれます')\n",
        "else:\n",
        "  print('Yにseは含まれません')\n"
      ],
      "metadata": {
        "colab": {
          "base_uri": "https://localhost:8080/"
        },
        "id": "_tys-eSZ_WVB",
        "outputId": "4838ac6a-521f-48bd-d7d4-e9cd1f953322"
      },
      "execution_count": null,
      "outputs": [
        {
          "output_type": "stream",
          "name": "stdout",
          "text": [
            "和集合： {'pa', 'ra', 'gr', 'ag', 'ap', 'se', 'di', 'ar', 'ph', 'ad', 'is'}\n",
            "積集合： {'pa', 'ar', 'ra', 'ap'}\n",
            "差集合： {'ad', 'se', 'di', 'is'}\n",
            "Xにseは含まれます\n",
            "Yにseは含まれません\n"
          ]
        }
      ]
    },
    {
      "cell_type": "code",
      "source": [
        "#07. テンプレートによる文生成\n",
        "\n",
        "def create_words(x, y, z):\n",
        "  return '{}時の{}は{}'.format(x, y, z)\n",
        "\n",
        "ans = create_words(12, '気温', 22.4)\n",
        "print(ans)"
      ],
      "metadata": {
        "colab": {
          "base_uri": "https://localhost:8080/"
        },
        "id": "qBmotPcoC5mp",
        "outputId": "54df5cc3-f22f-48f5-c35a-352ad3e1051a"
      },
      "execution_count": 7,
      "outputs": [
        {
          "output_type": "stream",
          "name": "stdout",
          "text": [
            "12時の気温は22.4\n"
          ]
        }
      ]
    },
    {
      "cell_type": "code",
      "source": [
        "#08. 暗号文\n",
        "\n",
        "def cipher(text):\n",
        "  ans = []\n",
        "  for word in text:\n",
        "    if 97 <= ord(word) <= 122:\n",
        "      word = chr(219 - ord(word))\n",
        "    ans.append(word)\n",
        "  return ''.join(ans)\n",
        "\n",
        "text = 'I am an NLPer'\n",
        "print(text)\n",
        "print(cipher(text))"
      ],
      "metadata": {
        "id": "T92LGG4wEXRW",
        "colab": {
          "base_uri": "https://localhost:8080/"
        },
        "outputId": "c20563ff-ee4e-479a-f2b2-d20855410e3b"
      },
      "execution_count": 9,
      "outputs": [
        {
          "output_type": "stream",
          "name": "stdout",
          "text": [
            "I am an NLPer\n",
            "I zn zm NLPvi\n"
          ]
        }
      ]
    },
    {
      "cell_type": "markdown",
      "source": [
        "* ord()：Unicodeのコードを取得する関数\n",
        "* chr()：Unicode文字を返す\n",
        "* ''.join()：リストの中身を連結してくれる\n"
      ],
      "metadata": {
        "id": "XLSgEcnCTCAu"
      }
    },
    {
      "cell_type": "code",
      "source": [
        "#09. Typoglycemia\n",
        "\n",
        "import random\n",
        "\n",
        "def shuffle(text):\n",
        "  text = text.split()\n",
        "  ans = []\n",
        "  for word in text:\n",
        "    if len(word) > 4:\n",
        "      middle_word = list(word[1:-1]) #リストに変換\n",
        "      random.shuffle(middle_word) #リストの要素をランダムに並び替える\n",
        "      word = word[0] + ''.join(middle_word) + word[-1] #文字列に戻す\n",
        "      ans.append(word)\n",
        "    else:\n",
        "      ans.append(word)\n",
        "  return ' '.join(ans)\n",
        "\n",
        "text = \"I couldn't believe that I could actually understand what I was reading : the phenomenal power of the human mind .\"\n",
        "print(shuffle(text))"
      ],
      "metadata": {
        "id": "eOqUfDQr8_rX",
        "colab": {
          "base_uri": "https://localhost:8080/"
        },
        "outputId": "b0b7d920-5eb8-4ef7-846b-3a50c671f215"
      },
      "execution_count": 10,
      "outputs": [
        {
          "output_type": "stream",
          "name": "stdout",
          "text": [
            "I cd'nulot bivleee that I could altaucly urneatdnsd what I was rnideag : the panhemonel pwoer of the hmuan mind .\n"
          ]
        }
      ]
    }
  ]
}