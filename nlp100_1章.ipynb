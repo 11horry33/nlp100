{
  "nbformat": 4,
  "nbformat_minor": 0,
  "metadata": {
    "colab": {
      "provenance": []
    },
    "kernelspec": {
      "name": "python3",
      "display_name": "Python 3"
    },
    "language_info": {
      "name": "python"
    }
  },
  "cells": [
    {
      "cell_type": "code",
      "execution_count": null,
      "metadata": {
        "colab": {
          "base_uri": "https://localhost:8080/"
        },
        "id": "0YCu8CsgTUiS",
        "outputId": "0333973f-ac42-476e-850d-c5467046215b"
      },
      "outputs": [
        {
          "output_type": "stream",
          "name": "stdout",
          "text": [
            "desserts\n"
          ]
        }
      ],
      "source": [
        "#00.文字列の逆順\n",
        "\n",
        "s = 'stressed'\n",
        "s = s[::-1]\n",
        "print(s)"
      ]
    },
    {
      "cell_type": "code",
      "source": [
        "#01. 「パタトクカシーー」\n",
        "\n",
        "s = 'パタトクカシー'\n",
        "s = s[::2]\n",
        "print(s)"
      ],
      "metadata": {
        "colab": {
          "base_uri": "https://localhost:8080/"
        },
        "id": "MetK61kRXB3w",
        "outputId": "006be51e-db16-43fc-e995-31e16677cc02"
      },
      "execution_count": null,
      "outputs": [
        {
          "output_type": "stream",
          "name": "stdout",
          "text": [
            "パトカー\n"
          ]
        }
      ]
    },
    {
      "cell_type": "code",
      "source": [
        "#02. 「パトカー」＋「タクシー」＝「パタトクカシー」\n",
        "\n",
        "s1 = 'パトカー'\n",
        "s2 = 'タクシー'\n",
        "s3 = ''\n",
        "\n",
        "for i, j in zip(s1, s2):\n",
        "  s3 += i\n",
        "  s3 += j\n",
        "\n",
        "print(s3)"
      ],
      "metadata": {
        "colab": {
          "base_uri": "https://localhost:8080/"
        },
        "id": "_8agbM6KXpIf",
        "outputId": "6f8ba578-b3e2-4d20-f65a-37fe58a636ee"
      },
      "execution_count": null,
      "outputs": [
        {
          "output_type": "stream",
          "name": "stdout",
          "text": [
            "パタトクカシーー\n"
          ]
        }
      ]
    },
    {
      "cell_type": "code",
      "source": [
        "#03. 円周率\n",
        "\n",
        "import re\n",
        "s = 'Now I need a drink, alcoholic of course, after the heavy lectures involving quantum mechanics.'\n",
        "s = re.sub('[,.]', '', s)\n",
        "s = s.split(' ')\n",
        "list = []\n",
        "\n",
        "for word in s:\n",
        "  list.append(len(word))\n",
        "\n",
        "print(list)"
      ],
      "metadata": {
        "colab": {
          "base_uri": "https://localhost:8080/"
        },
        "id": "VuDBv1y3ZdXC",
        "outputId": "a9fa40bc-04f8-4e57-e41c-870f39af4493"
      },
      "execution_count": null,
      "outputs": [
        {
          "output_type": "stream",
          "name": "stdout",
          "text": [
            "[3, 1, 4, 1, 5, 9, 2, 6, 5, 3, 5, 8, 9, 7, 9]\n"
          ]
        }
      ]
    },
    {
      "cell_type": "code",
      "source": [
        "#04. 元素記号\n",
        "\n",
        "import re\n",
        "s = 'Hi He Lied Because Boron Could Not Oxidize Fluorine. New Nations Might Also Sign Peace Security Clause. Arthur King Can.'\n",
        "s = re.sub('[.]', '', s)\n",
        "s = s.split(' ')\n",
        "num = [1,5,6,7,8,9,15,16,19]\n",
        "dict = {}\n",
        "\n",
        "for idx, word in enumerate(s):\n",
        "  if idx + 1 in num:\n",
        "    dict[word[:1]] = idx + 1\n",
        "  else:\n",
        "    dict[word[:2]] = idx + 1\n",
        "\n",
        "print(dict)"
      ],
      "metadata": {
        "colab": {
          "base_uri": "https://localhost:8080/"
        },
        "id": "UGcmL718dI_l",
        "outputId": "5e80a47d-ebb8-483c-ccf0-8e80041145c8"
      },
      "execution_count": null,
      "outputs": [
        {
          "output_type": "stream",
          "name": "stdout",
          "text": [
            "{'H': 1, 'He': 2, 'Li': 3, 'Be': 4, 'B': 5, 'C': 6, 'N': 7, 'O': 8, 'F': 9, 'Ne': 10, 'Na': 11, 'Mi': 12, 'Al': 13, 'Si': 14, 'P': 15, 'S': 16, 'Cl': 17, 'Ar': 18, 'K': 19, 'Ca': 20}\n"
          ]
        }
      ]
    },
    {
      "cell_type": "code",
      "source": [
        "#05. n-gram\n",
        "\n",
        "def ngram(n, text):\n",
        "  ngram_list = []\n",
        "  for i in range(len(text)-n+1):\n",
        "    ngram_list.append(text[i:i+n])\n",
        "  return ngram_list\n",
        "\n",
        "s = 'I am an NLPer'\n",
        "print(ngram(2, s.split()))\n",
        "print(ngram(2, s))\n",
        "print(ngram(3, s.split()))\n"
      ],
      "metadata": {
        "id": "X48xgtPfcdMm",
        "colab": {
          "base_uri": "https://localhost:8080/"
        },
        "outputId": "c79d81a9-230d-4cac-c8f4-d5f1cabde697"
      },
      "execution_count": null,
      "outputs": [
        {
          "output_type": "stream",
          "name": "stdout",
          "text": [
            "[['I', 'am'], ['am', 'an'], ['an', 'NLPer']]\n",
            "['I ', ' a', 'am', 'm ', ' a', 'an', 'n ', ' N', 'NL', 'LP', 'Pe', 'er']\n",
            "[['I', 'am', 'an'], ['am', 'an', 'NLPer']]\n"
          ]
        }
      ]
    },
    {
      "cell_type": "code",
      "source": [
        "#06. 集合\n",
        "\n",
        "def ngram(n, text):\n",
        "  ngram_list = []\n",
        "  for i in range(len(text)-n+1):\n",
        "    ngram_list.append(text[i:i+n])\n",
        "  return ngram_list\n",
        "\n",
        "s1 = 'paraparaparadise'\n",
        "s2 = 'paragraph'\n",
        "X = set(ngram(2, s1))\n",
        "Y = set(ngram(2, s2))\n",
        "print('和集合：', X|Y)\n",
        "print('積集合：', X&Y)\n",
        "print('差集合：', X-Y)\n",
        "\n",
        "if 'se' in X:\n",
        "  print('Xにseは含まれます')\n",
        "else:\n",
        "  print('Xにseは含まれません')\n",
        "\n",
        "if 'se' in Y:\n",
        "  print('Yにseは含まれます')\n",
        "else:\n",
        "  print('Yにseは含まれません')\n"
      ],
      "metadata": {
        "colab": {
          "base_uri": "https://localhost:8080/"
        },
        "id": "_tys-eSZ_WVB",
        "outputId": "95d806fe-5490-49a8-8cb4-830ed9811542"
      },
      "execution_count": null,
      "outputs": [
        {
          "output_type": "stream",
          "name": "stdout",
          "text": [
            "和集合： {'ag', 'ad', 'pa', 'ra', 'ar', 'ph', 'gr', 'is', 'se', 'ap', 'di'}\n",
            "積集合： {'ra', 'ap', 'ar', 'pa'}\n",
            "差集合： {'is', 'se', 'ad', 'di'}\n",
            "Xにseは含まれます\n",
            "Yにseは含まれません\n"
          ]
        }
      ]
    },
    {
      "cell_type": "code",
      "source": [
        "#07. テンプレートによる文生成\n",
        "\n",
        "def create_words(x, y, z):\n",
        "  return '{}時の{}は{}'.format(x, y, z)\n",
        "\n",
        "s = create_words(12, '気温', 22.4)\n",
        "print(s)"
      ],
      "metadata": {
        "colab": {
          "base_uri": "https://localhost:8080/"
        },
        "id": "qBmotPcoC5mp",
        "outputId": "7aa5dc63-d96d-404f-c20e-5b98ffeacec2"
      },
      "execution_count": null,
      "outputs": [
        {
          "output_type": "stream",
          "name": "stdout",
          "text": [
            "12時の気温は22.4\n"
          ]
        }
      ]
    },
    {
      "cell_type": "code",
      "source": [
        "#08. 暗号文\n",
        "\n",
        "def cipher(text):\n",
        "  s = []\n",
        "  for word in text:\n",
        "    if 97 <= ord(word) <= 122:\n",
        "      word = chr(219 - ord(word))\n",
        "    s.append(word)\n",
        "  return ''.join(s)\n",
        "\n",
        "s = 'I am an NLPer'\n",
        "print(s)\n",
        "print(cipher(s))"
      ],
      "metadata": {
        "id": "T92LGG4wEXRW",
        "colab": {
          "base_uri": "https://localhost:8080/"
        },
        "outputId": "362f9c2d-d333-4b3d-89eb-d21f5dbe1bae"
      },
      "execution_count": null,
      "outputs": [
        {
          "output_type": "stream",
          "name": "stdout",
          "text": [
            "I am an NLPer\n",
            "I zn zm NLPvi\n"
          ]
        }
      ]
    },
    {
      "cell_type": "markdown",
      "source": [
        "* ord()：Unicodeのコードを取得する関数\n",
        "* chr()：Unicode文字を返す\n",
        "* ''.join()：リストの中身を連結してくれる\n"
      ],
      "metadata": {
        "id": "XLSgEcnCTCAu"
      }
    },
    {
      "cell_type": "code",
      "source": [
        "#09. Typoglycemia\n",
        "\n",
        "import random\n",
        "\n",
        "def shuffle(text):\n",
        "  text = text.split()\n",
        "  s = []\n",
        "  for word in text:\n",
        "    if len(word) > 4:\n",
        "      middle_word = list(word[1:-1]) #リストに変換\n",
        "      random.shuffle(middle_word) #リストの要素をランダムに並び替える\n",
        "      word = word[0] + ''.join(middle_word) + word[-1] #文字列に戻す\n",
        "      s.append(word)\n",
        "    else:\n",
        "      s.append(word)\n",
        "  return ' '.join(s)\n",
        "\n",
        "s = \"I couldn't believe that I could actually understand what I was reading : the phenomenal power of the human mind .\"\n",
        "print(shuffle(s))"
      ],
      "metadata": {
        "id": "eOqUfDQr8_rX",
        "colab": {
          "base_uri": "https://localhost:8080/"
        },
        "outputId": "aedcbfb9-2ab1-4e00-b486-edd96b6f0824"
      },
      "execution_count": null,
      "outputs": [
        {
          "output_type": "stream",
          "name": "stdout",
          "text": [
            "I cdol'nut bvlieee that I could allctauy undntseard what I was rdenaig : the peaomhnnel peowr of the hamun mind .\n"
          ]
        }
      ]
    },
    {
      "cell_type": "code",
      "source": [],
      "metadata": {
        "id": "lqgZx1txSE5F"
      },
      "execution_count": null,
      "outputs": []
    }
  ]
}