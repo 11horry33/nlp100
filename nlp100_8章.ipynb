{
  "nbformat": 4,
  "nbformat_minor": 0,
  "metadata": {
    "colab": {
      "provenance": [],
      "gpuType": "A100"
    },
    "kernelspec": {
      "name": "python3",
      "display_name": "Python 3"
    },
    "language_info": {
      "name": "python"
    },
    "accelerator": "GPU"
  },
  "cells": [
    {
      "cell_type": "code",
      "source": [
        "from google.colab import drive\n",
        "drive.mount('/content/drive')"
      ],
      "metadata": {
        "colab": {
          "base_uri": "https://localhost:8080/"
        },
        "id": "YakGeZtNqXuR",
        "outputId": "81678cc3-26ae-4df3-da5b-12cd7bb8e939"
      },
      "execution_count": null,
      "outputs": [
        {
          "output_type": "stream",
          "name": "stdout",
          "text": [
            "Mounted at /content/drive\n"
          ]
        }
      ]
    },
    {
      "cell_type": "markdown",
      "source": [
        "# **70. 単語ベクトルの和による特徴量**"
      ],
      "metadata": {
        "id": "orhnRGj9nlqL"
      }
    },
    {
      "cell_type": "markdown",
      "source": [
        "**データの入手・整形**"
      ],
      "metadata": {
        "id": "cQlFxuaMp9gg"
      }
    },
    {
      "cell_type": "code",
      "execution_count": null,
      "metadata": {
        "colab": {
          "base_uri": "https://localhost:8080/"
        },
        "id": "X7VAWuTmnedE",
        "outputId": "6db66c73-a326-4bcd-dbc1-463758aa2c1e"
      },
      "outputs": [
        {
          "output_type": "stream",
          "name": "stdout",
          "text": [
            "--2023-06-10 05:48:01--  https://archive.ics.uci.edu/ml/machine-learning-databases/00359/NewsAggregatorDataset.zip\n",
            "Resolving archive.ics.uci.edu (archive.ics.uci.edu)... 128.195.10.252\n",
            "Connecting to archive.ics.uci.edu (archive.ics.uci.edu)|128.195.10.252|:443... connected.\n",
            "HTTP request sent, awaiting response... 200 OK\n",
            "Length: unspecified\n",
            "Saving to: ‘NewsAggregatorDataset.zip’\n",
            "\n",
            "NewsAggregatorDatas     [  <=>               ]  27.87M  71.0MB/s    in 0.4s    \n",
            "\n",
            "2023-06-10 05:48:02 (71.0 MB/s) - ‘NewsAggregatorDataset.zip’ saved [29224203]\n",
            "\n",
            "Archive:  NewsAggregatorDataset.zip\n",
            "  inflating: 2pageSessions.csv       \n",
            "   creating: __MACOSX/\n",
            "  inflating: __MACOSX/._2pageSessions.csv  \n",
            "  inflating: newsCorpora.csv         \n",
            "  inflating: __MACOSX/._newsCorpora.csv  \n",
            "  inflating: readme.txt              \n",
            "  inflating: __MACOSX/._readme.txt   \n",
            "学習データの事例数\n",
            "b    4481\n",
            "e    4240\n",
            "t    1214\n",
            "m     737\n",
            "Name: CATEGORY, dtype: int64\n",
            "\n",
            "検証データの事例数\n",
            "b    575\n",
            "e    528\n",
            "t    137\n",
            "m     94\n",
            "Name: CATEGORY, dtype: int64\n",
            "\n",
            "テストデータの事例数\n",
            "b    571\n",
            "e    511\n",
            "t    173\n",
            "m     79\n",
            "Name: CATEGORY, dtype: int64\n",
            "\n"
          ]
        }
      ],
      "source": [
        "!wget https://archive.ics.uci.edu/ml/machine-learning-databases/00359/NewsAggregatorDataset.zip\n",
        "!unzip NewsAggregatorDataset.zip\n",
        "\n",
        "import pandas as pd\n",
        "from sklearn.model_selection import train_test_split\n",
        "\n",
        "# データの読み込み\n",
        "df = pd.read_csv(\"newsCorpora.csv\", sep=\"\\t\", names=(\"ID\",\"TITLE\",\"URL\",\"PUBLISHER\",\"CATEGORY\",\"STORY\",\"HOSTNAME\",\"TIMESTAMP\"))\n",
        "\n",
        "# \"TITLE\"と\"CATEGORY\"を抽出\n",
        "data = df.loc[df[\"PUBLISHER\"].isin([\"Reuters\",\"Huffington Post\",\"Businessweek\",\"Contactmusic.com\",\"Daily Mail\"]), [\"TITLE\",\"CATEGORY\"]]\n",
        "\n",
        "# データ分割　学習:検証:テスト=8:1:1\n",
        "train, others = train_test_split(data, test_size=0.2, random_state=0, shuffle=True)\n",
        "dev, test = train_test_split(others, test_size=0.5, random_state=0, shuffle=True)\n",
        "\n",
        "# ファイルに保存\n",
        "train.to_csv(\"train.txt\", sep=\"\\t\", index=None)\n",
        "dev.to_csv(\"dev.txt\", sep=\"\\t\", index=None)\n",
        "test.to_csv(\"test.txt\", sep=\"\\t\", index=None)\n",
        "\n",
        "# 事例数の確認\n",
        "print(f'学習データの事例数\\n{train[\"CATEGORY\"].value_counts()}\\n')\n",
        "print(f'検証データの事例数\\n{dev[\"CATEGORY\"].value_counts()}\\n')\n",
        "print(f'テストデータの事例数\\n{test[\"CATEGORY\"].value_counts()}\\n')"
      ]
    },
    {
      "cell_type": "markdown",
      "source": [
        "**単語ベクトルの読み込み**"
      ],
      "metadata": {
        "id": "JEDLr0VyqDB3"
      }
    },
    {
      "cell_type": "code",
      "source": [
        "# ライブラリのインストール\n",
        "\n",
        "! pip install gensim==4.0.1\n",
        "\n",
        "from gensim import models\n",
        "\n",
        "en_w2v = models.KeyedVectors.load_word2vec_format('drive/MyDrive/nlp100/GoogleNews-vectors-negative300.bin', binary=True)"
      ],
      "metadata": {
        "colab": {
          "base_uri": "https://localhost:8080/"
        },
        "id": "Y3sTXVJvohI9",
        "outputId": "ff2998d6-6ebf-412e-e059-a11be47c27bd"
      },
      "execution_count": null,
      "outputs": [
        {
          "output_type": "stream",
          "name": "stdout",
          "text": [
            "Looking in indexes: https://pypi.org/simple, https://us-python.pkg.dev/colab-wheels/public/simple/\n",
            "Collecting gensim==4.0.1\n",
            "  Downloading gensim-4.0.1.tar.gz (23.1 MB)\n",
            "\u001b[2K     \u001b[90m━━━━━━━━━━━━━━━━━━━━━━━━━━━━━━━━━━━━━━━━\u001b[0m \u001b[32m23.1/23.1 MB\u001b[0m \u001b[31m10.0 MB/s\u001b[0m eta \u001b[36m0:00:00\u001b[0m\n",
            "\u001b[?25h  Preparing metadata (setup.py) ... \u001b[?25l\u001b[?25hdone\n",
            "Requirement already satisfied: numpy>=1.11.3 in /usr/local/lib/python3.10/dist-packages (from gensim==4.0.1) (1.22.4)\n",
            "Requirement already satisfied: scipy>=0.18.1 in /usr/local/lib/python3.10/dist-packages (from gensim==4.0.1) (1.10.1)\n",
            "Requirement already satisfied: smart_open>=1.8.1 in /usr/local/lib/python3.10/dist-packages (from gensim==4.0.1) (6.3.0)\n",
            "Building wheels for collected packages: gensim\n",
            "  \u001b[1;31merror\u001b[0m: \u001b[1msubprocess-exited-with-error\u001b[0m\n",
            "  \n",
            "  \u001b[31m×\u001b[0m \u001b[32mpython setup.py bdist_wheel\u001b[0m did not run successfully.\n",
            "  \u001b[31m│\u001b[0m exit code: \u001b[1;36m1\u001b[0m\n",
            "  \u001b[31m╰─>\u001b[0m See above for output.\n",
            "  \n",
            "  \u001b[1;35mnote\u001b[0m: This error originates from a subprocess, and is likely not a problem with pip.\n",
            "  Building wheel for gensim (setup.py) ... \u001b[?25lerror\n",
            "\u001b[31m  ERROR: Failed building wheel for gensim\u001b[0m\u001b[31m\n",
            "\u001b[0m\u001b[?25h  Running setup.py clean for gensim\n",
            "Failed to build gensim\n",
            "\u001b[31mERROR: Could not build wheels for gensim, which is required to install pyproject.toml-based projects\u001b[0m\u001b[31m\n",
            "\u001b[0m"
          ]
        }
      ]
    },
    {
      "cell_type": "markdown",
      "source": [
        "**特徴量生成**"
      ],
      "metadata": {
        "id": "V4ORcgZjqfD8"
      }
    },
    {
      "cell_type": "code",
      "source": [
        "import string\n",
        "import re\n",
        "import numpy as np\n",
        "import torch\n",
        "\n",
        "def preprocessing(text):\n",
        "  table = str.maketrans(string.punctuation, ' '*len(string.punctuation))\n",
        "  text = text.translate(table)  # 記号をスペースに置換\n",
        "  text = text.lower()  # 小文字化\n",
        "  text = re.sub('[0-9]+', '', text)  # 数字除去\n",
        "  text = text.split()\n",
        "  return text\n",
        "\n",
        "def vectorize(words, en_w2v):\n",
        "    vectors = list()\n",
        "    for word in words:\n",
        "        if word in en_w2v:\n",
        "          vectors.append(en_w2v[word])\n",
        "        else:\n",
        "          vectors.append(np.zeros(300))\n",
        "    return np.array(vectors).mean(axis=0)"
      ],
      "metadata": {
        "id": "Wy177pfhqiP9"
      },
      "execution_count": null,
      "outputs": []
    },
    {
      "cell_type": "code",
      "source": [
        "# 前処理\n",
        "train[\"TITLE\"] = train[\"TITLE\"].map(lambda x: preprocessing(x))\n",
        "dev[\"TITLE\"] = dev[\"TITLE\"].map(lambda x: preprocessing(x))\n",
        "test[\"TITLE\"] = test[\"TITLE\"].map(lambda x: preprocessing(x))\n",
        "\n",
        "# ベクトル化\n",
        "X_train = torch.tensor([vectorize(i, en_w2v) for i in train[\"TITLE\"]], dtype=torch.float32)\n",
        "X_dev = torch.tensor([vectorize(i, en_w2v) for i in dev[\"TITLE\"]], dtype=torch.float32)\n",
        "X_test = torch.tensor([vectorize(i, en_w2v) for i in test[\"TITLE\"]], dtype=torch.float32)\n",
        "\n",
        "# ラベル変換（str -> int）\n",
        "category_dict = {'b': 0, 't': 1, 'e':2, 'm':3}\n",
        "Y_train = torch.tensor(train[\"CATEGORY\"].map(lambda x: category_dict[x]).values)\n",
        "Y_dev = torch.tensor(dev[\"CATEGORY\"].map(lambda x: category_dict[x]).values)\n",
        "Y_test = torch.tensor(test[\"CATEGORY\"].map(lambda x: category_dict[x]).values)\n",
        "\n",
        "# 保存\n",
        "torch.save(X_train, \"X_train.pt\")\n",
        "torch.save(X_dev, \"X_dev.pt\")\n",
        "torch.save(X_test, \"X_test.pt\")\n",
        "torch.save(Y_train, \"Y_train.pt\")\n",
        "torch.save(Y_dev, \"Y_dev.pt\")\n",
        "torch.save(Y_test, \"Y_test.pt\")"
      ],
      "metadata": {
        "id": "w5K8E4Zcrc75",
        "colab": {
          "base_uri": "https://localhost:8080/"
        },
        "outputId": "b3837c58-9d48-4b0f-f2ea-0a82098713c2"
      },
      "execution_count": null,
      "outputs": [
        {
          "output_type": "stream",
          "name": "stderr",
          "text": [
            "<ipython-input-5-ddf7b2e4d49f>:7: UserWarning: Creating a tensor from a list of numpy.ndarrays is extremely slow. Please consider converting the list to a single numpy.ndarray with numpy.array() before converting to a tensor. (Triggered internally at ../torch/csrc/utils/tensor_new.cpp:245.)\n",
            "  X_train = torch.tensor([vectorize(i, en_w2v) for i in train[\"TITLE\"]], dtype=torch.float32)\n"
          ]
        }
      ]
    },
    {
      "cell_type": "markdown",
      "source": [
        "# **71. 単層ニューラルネットワークによる予測**"
      ],
      "metadata": {
        "id": "Aqp6FF4UwUUi"
      }
    },
    {
      "cell_type": "code",
      "source": [
        "from torch import nn\n",
        "\n",
        "class Net(nn.Module):\n",
        "    def __init__(self):\n",
        "        super(Net, self).__init__()\n",
        "        self.fc = nn.Linear(300, 4)\n",
        "\n",
        "    def forward(self, x):\n",
        "        h = self.fc(x)\n",
        "        return h"
      ],
      "metadata": {
        "id": "pti_3o61wYpK"
      },
      "execution_count": null,
      "outputs": []
    },
    {
      "cell_type": "code",
      "source": [
        "model = Net()\n",
        "y_hat_1 = torch.softmax(model(X_train[0]), dim=-1)\n",
        "Y_hat = torch.softmax(model(X_train[:4]), dim=-1)\n",
        "print(y_hat_1)\n",
        "print(Y_hat)"
      ],
      "metadata": {
        "colab": {
          "base_uri": "https://localhost:8080/"
        },
        "id": "zTo1PEyaBUip",
        "outputId": "f6c3e4c0-19d9-4034-f8c5-2ee8a142643c"
      },
      "execution_count": null,
      "outputs": [
        {
          "output_type": "stream",
          "name": "stdout",
          "text": [
            "tensor([0.2486, 0.2447, 0.2456, 0.2611], grad_fn=<SoftmaxBackward0>)\n",
            "tensor([[0.2486, 0.2447, 0.2456, 0.2611],\n",
            "        [0.2475, 0.2505, 0.2495, 0.2526],\n",
            "        [0.2515, 0.2413, 0.2532, 0.2540],\n",
            "        [0.2518, 0.2419, 0.2603, 0.2460]], grad_fn=<SoftmaxBackward0>)\n"
          ]
        }
      ]
    },
    {
      "cell_type": "markdown",
      "source": [
        "# **72. 損失と勾配の計算**"
      ],
      "metadata": {
        "id": "ni8DR_ReDfE8"
      }
    },
    {
      "cell_type": "code",
      "source": [
        "criterion = nn.CrossEntropyLoss() # 損失関数\n",
        "loss = criterion(model(X_train[0]), Y_train[0])\n",
        "model.zero_grad() # 勾配初期化\n",
        "loss.backward() #勾配計算\n",
        "print(f\"損失1：{loss}\")\n",
        "print(f\"勾配1：\\n{model.fc.weight.grad}\\n\")\n",
        "\n",
        "loss = criterion(model(X_train[:4]), Y_train[:4])\n",
        "model.zero_grad()\n",
        "loss.backward()\n",
        "print(f\"損失2：{loss}\")\n",
        "print(f\"勾配2：\\n{model.fc.weight.grad}\")"
      ],
      "metadata": {
        "colab": {
          "base_uri": "https://localhost:8080/"
        },
        "id": "Wt64WuECDkKT",
        "outputId": "1e752589-cee8-48b5-b684-5517a64b4d76"
      },
      "execution_count": null,
      "outputs": [
        {
          "output_type": "stream",
          "name": "stdout",
          "text": [
            "損失1：1.391857624053955\n",
            "勾配1：\n",
            "tensor([[-0.0037, -0.0417,  0.0156,  ..., -0.0592,  0.0193,  0.0337],\n",
            "        [ 0.0012,  0.0136, -0.0051,  ...,  0.0193, -0.0063, -0.0110],\n",
            "        [ 0.0012,  0.0136, -0.0051,  ...,  0.0193, -0.0063, -0.0110],\n",
            "        [ 0.0013,  0.0145, -0.0054,  ...,  0.0206, -0.0067, -0.0117]])\n",
            "\n",
            "損失2：1.3750096559524536\n",
            "勾配2：\n",
            "tensor([[ 0.0018, -0.0043, -0.0008,  ..., -0.0339,  0.0045,  0.0117],\n",
            "        [ 0.0029,  0.0093, -0.0059,  ..., -0.0138, -0.0017,  0.0005],\n",
            "        [-0.0077, -0.0147,  0.0128,  ...,  0.0617, -0.0009, -0.0125],\n",
            "        [ 0.0030,  0.0097, -0.0060,  ..., -0.0140, -0.0019,  0.0003]])\n"
          ]
        }
      ]
    },
    {
      "cell_type": "markdown",
      "source": [
        "# **73. 確率的勾配降下法による学習**"
      ],
      "metadata": {
        "id": "42z_X_VoKiH5"
      }
    },
    {
      "cell_type": "code",
      "source": [
        "from torch.utils.data import TensorDataset\n",
        "from torch.utils.data import DataLoader\n",
        "\n",
        "train = TensorDataset(X_train, Y_train)\n",
        "dev = TensorDataset(X_dev, Y_dev)\n",
        "test = TensorDataset(X_test, Y_test)\n",
        "\n",
        "batch_size = 1\n",
        "\n",
        "train_loader = DataLoader(train, batch_size, shuffle=True)\n",
        "dev_loader = DataLoader(dev, batch_size, shuffle=False)\n",
        "test_loader = DataLoader(test, batch_size, shuffle=False)"
      ],
      "metadata": {
        "id": "wCUIz6nkKnde"
      },
      "execution_count": null,
      "outputs": []
    },
    {
      "cell_type": "code",
      "source": [
        "model = Net()\n",
        "\n",
        "criterion = nn.CrossEntropyLoss() #損失関数\n",
        "\n",
        "optimizer = torch.optim.SGD(model.parameters(), lr=0.1) # 最適化手法\n",
        "\n",
        "for i in range(10):\n",
        "    train_loss = []\n",
        "    for batch in train_loader:\n",
        "        x, t = batch\n",
        "        y = model(x)\n",
        "        loss = criterion(y, t)\n",
        "        optimizer.zero_grad()\n",
        "        loss.backward()\n",
        "        train_loss.append(loss)\n",
        "        optimizer.step()\n",
        "    avg_loss = torch.stack(train_loss).mean()\n",
        "    print(f\"epoch:{i+1}  loss:{avg_loss}\")"
      ],
      "metadata": {
        "colab": {
          "base_uri": "https://localhost:8080/"
        },
        "id": "oxF5tiZwL5Qa",
        "outputId": "8f10910e-dd0e-4fba-f6ae-47453b32fe16"
      },
      "execution_count": null,
      "outputs": [
        {
          "output_type": "stream",
          "name": "stdout",
          "text": [
            "epoch:1  loss:0.525300920009613\n",
            "epoch:2  loss:0.4029712975025177\n",
            "epoch:3  loss:0.3746851980686188\n",
            "epoch:4  loss:0.34717485308647156\n",
            "epoch:5  loss:0.3286287188529968\n",
            "epoch:6  loss:0.31130051612854004\n",
            "epoch:7  loss:0.30434292554855347\n",
            "epoch:8  loss:0.2749452292919159\n",
            "epoch:9  loss:0.2610458433628082\n",
            "epoch:10  loss:0.25963321328163147\n"
          ]
        }
      ]
    },
    {
      "cell_type": "markdown",
      "source": [
        "# **74. 正解率の計測**"
      ],
      "metadata": {
        "id": "tCtXde9uRe2v"
      }
    },
    {
      "cell_type": "code",
      "source": [
        "def calc_accuracy(loader):\n",
        "    with torch.no_grad():\n",
        "        acc_list = []\n",
        "        for batch in loader:\n",
        "            x, t = batch\n",
        "            y = model(x)\n",
        "\n",
        "            # accuracy計算\n",
        "            pred = torch.argmax(y, dim=1)\n",
        "            acc = (pred == t).sum() * 1.0 / len(t)\n",
        "            acc_list.append(acc)\n",
        "\n",
        "    return torch.tensor(acc_list).mean()"
      ],
      "metadata": {
        "id": "77NEkpd0ZcuH"
      },
      "execution_count": null,
      "outputs": []
    },
    {
      "cell_type": "code",
      "source": [
        "train_accuracy = calc_accuracy(train_loader)\n",
        "print(\"学習：\", train_accuracy.item())\n",
        "test_accuracy = calc_accuracy(test_loader)\n",
        "print(\"評価：\", test_accuracy.item())"
      ],
      "metadata": {
        "colab": {
          "base_uri": "https://localhost:8080/"
        },
        "id": "4-gZ3qHga9qw",
        "outputId": "52d7bb28-1ff7-4c09-c5db-4662a7ccc6e2"
      },
      "execution_count": null,
      "outputs": [
        {
          "output_type": "stream",
          "name": "stdout",
          "text": [
            "学習： 0.9297226667404175\n",
            "評価： 0.8905547261238098\n"
          ]
        }
      ]
    },
    {
      "cell_type": "markdown",
      "source": [
        "# **75. 損失と正解率のプロット**"
      ],
      "metadata": {
        "id": "PMUfCF8GEjkY"
      }
    },
    {
      "cell_type": "code",
      "source": [
        "def calc_loss_accuracy(loader):\n",
        "    with torch.no_grad():\n",
        "        acc_list = []\n",
        "        loss_list = []\n",
        "        for batch in loader:\n",
        "            x, t = batch\n",
        "            y = model(x)\n",
        "\n",
        "            # loss計算\n",
        "            loss = criterion(y, t)\n",
        "            loss_list.append(loss)\n",
        "\n",
        "            # accuracy計算\n",
        "            pred = torch.argmax(y, dim=1)\n",
        "            acc = (pred == t).sum() * 1.0 / len(t)\n",
        "            acc_list.append(acc)\n",
        "\n",
        "    return torch.tensor(loss_list).mean(), torch.tensor(acc_list).mean()"
      ],
      "metadata": {
        "id": "CRz6KAHVEoBs"
      },
      "execution_count": null,
      "outputs": []
    },
    {
      "cell_type": "code",
      "source": [
        "model = Net()\n",
        "\n",
        "criterion = nn.CrossEntropyLoss() #損失関数\n",
        "\n",
        "optimizer = torch.optim.SGD(model.parameters(), lr=0.1) # 最適化手法\n",
        "\n",
        "log_train, log_dev = [], []\n",
        "for i in range(10):\n",
        "    for batch in train_loader:\n",
        "        x, t = batch\n",
        "        y = model(x)\n",
        "        loss = criterion(y, t)\n",
        "        optimizer.zero_grad()\n",
        "        loss.backward()\n",
        "        optimizer.step()\n",
        "\n",
        "    loss_train, acc_train = calc_loss_accuracy(train_loader)\n",
        "    loss_dev, acc_dev = calc_loss_accuracy(dev_loader)\n",
        "    log_train.append([loss_train, acc_train])\n",
        "    log_dev.append([loss_dev, acc_dev])\n",
        "\n",
        "    # ログ表示\n",
        "    print(f\"epoch:{i+1}  loss_train:{loss_train:.4f}  acc_train:{acc_train:.4f}  loss_dev:{loss_dev:.4f}  acc_dev:{acc_dev:.4f}\")"
      ],
      "metadata": {
        "colab": {
          "base_uri": "https://localhost:8080/"
        },
        "id": "G8KqrDE1JJg1",
        "outputId": "63b71cfe-29d6-4251-af30-3a1caf9d176e"
      },
      "execution_count": null,
      "outputs": [
        {
          "output_type": "stream",
          "name": "stdout",
          "text": [
            "epoch:1  loss_train:0.3619  acc_train:0.8831  loss_dev:0.3695  acc_dev:0.8733\n",
            "epoch:2  loss_train:0.3236  acc_train:0.8891  loss_dev:0.3399  acc_dev:0.8838\n",
            "epoch:3  loss_train:0.3192  acc_train:0.8878  loss_dev:0.3421  acc_dev:0.8793\n",
            "epoch:4  loss_train:0.2974  acc_train:0.8990  loss_dev:0.3288  acc_dev:0.8913\n",
            "epoch:5  loss_train:0.3019  acc_train:0.8953  loss_dev:0.3344  acc_dev:0.8853\n",
            "epoch:6  loss_train:0.2873  acc_train:0.8980  loss_dev:0.3252  acc_dev:0.8913\n",
            "epoch:7  loss_train:0.2826  acc_train:0.9044  loss_dev:0.3258  acc_dev:0.8883\n",
            "epoch:8  loss_train:0.2768  acc_train:0.9062  loss_dev:0.3247  acc_dev:0.8928\n",
            "epoch:9  loss_train:0.2758  acc_train:0.9039  loss_dev:0.3234  acc_dev:0.8898\n",
            "epoch:10  loss_train:0.2741  acc_train:0.9051  loss_dev:0.3233  acc_dev:0.8951\n"
          ]
        }
      ]
    },
    {
      "cell_type": "code",
      "source": [
        "from matplotlib import pyplot as plt\n",
        "\n",
        "fig, ax = plt.subplots(1, 2, figsize=(15, 5))\n",
        "\n",
        "# 学習データ\n",
        "ax[0].plot(np.array(log_train).T[0], label='train')\n",
        "ax[0].plot(np.array(log_dev).T[0], label='dev')\n",
        "ax[0].set_xlabel('epoch')\n",
        "ax[0].set_ylabel('loss')\n",
        "ax[0].legend()\n",
        "\n",
        "# テストデータ\n",
        "ax[1].plot(np.array(log_train).T[1], label='train')\n",
        "ax[1].plot(np.array(log_dev).T[1], label='dev')\n",
        "ax[1].set_xlabel('epoch')\n",
        "ax[1].set_ylabel('accuracy')\n",
        "ax[1].legend()\n",
        "plt.show()"
      ],
      "metadata": {
        "colab": {
          "base_uri": "https://localhost:8080/",
          "height": 413
        },
        "id": "cVBJzOMaPl0P",
        "outputId": "69416c17-e400-499c-c96d-02d219031bb8"
      },
      "execution_count": null,
      "outputs": [
        {
          "output_type": "display_data",
          "data": {
            "text/plain": [
              "<Figure size 1500x500 with 2 Axes>"
            ],
            "image/png": "[encoded data removed]"
          },
          "metadata": {}
        }
      ]
    },
    {
      "cell_type": "markdown",
      "source": [
        "# **76. チェックポイント**"
      ],
      "metadata": {
        "id": "UipuPLgTSlqY"
      }
    },
    {
      "cell_type": "code",
      "source": [
        "model = Net()\n",
        "\n",
        "criterion = nn.CrossEntropyLoss() #損失関数\n",
        "\n",
        "optimizer = torch.optim.SGD(model.parameters(), lr=0.1) # 最適化手法\n",
        "\n",
        "log_train, log_dev = [], []\n",
        "for i in range(10):\n",
        "    for batch in train_loader:\n",
        "        x, t = batch\n",
        "        y = model(x)\n",
        "        loss = criterion(y, t)\n",
        "        optimizer.zero_grad()\n",
        "        loss.backward()\n",
        "        optimizer.step()\n",
        "\n",
        "    loss_train, acc_train = calc_loss_accuracy(train_loader)\n",
        "    loss_dev, acc_dev = calc_loss_accuracy(dev_loader)\n",
        "    log_train.append([loss_train, acc_train])\n",
        "    log_dev.append([loss_dev, acc_dev])\n",
        "\n",
        "    # チェックポイント保存\n",
        "    torch.save({\"epoch\":i, \"model_state_dict\":model.state_dict(), \"optimizer_state_dict\":optimizer.state_dict()}, f\"checkpoint_{i+1}.pt\")\n",
        "\n",
        "    # ログ表示\n",
        "    print(f\"epoch:{i+1}  loss_train:{loss_train:.4f}  acc_train:{acc_train:.4f}  loss_dev:{loss_dev:.4f}  acc_dev:{acc_dev:.4f}\")"
      ],
      "metadata": {
        "id": "cb5EfBEUSpgq",
        "colab": {
          "base_uri": "https://localhost:8080/"
        },
        "outputId": "1fbd663e-e85d-43d9-8f86-1202859bb117"
      },
      "execution_count": null,
      "outputs": [
        {
          "output_type": "stream",
          "name": "stdout",
          "text": [
            "epoch:1  loss_train:0.3405  acc_train:0.8872  loss_dev:0.3929  acc_dev:0.8658\n",
            "epoch:2  loss_train:0.3617  acc_train:0.8713  loss_dev:0.3977  acc_dev:0.8546\n",
            "epoch:3  loss_train:0.2918  acc_train:0.8980  loss_dev:0.3468  acc_dev:0.8808\n",
            "epoch:4  loss_train:0.3520  acc_train:0.8853  loss_dev:0.4143  acc_dev:0.8778\n",
            "epoch:5  loss_train:0.2764  acc_train:0.9035  loss_dev:0.3596  acc_dev:0.8891\n",
            "epoch:6  loss_train:0.3166  acc_train:0.8905  loss_dev:0.4291  acc_dev:0.8711\n",
            "epoch:7  loss_train:0.2116  acc_train:0.9242  loss_dev:0.3506  acc_dev:0.8951\n",
            "epoch:8  loss_train:0.2421  acc_train:0.9163  loss_dev:0.3802  acc_dev:0.8853\n",
            "epoch:9  loss_train:0.2616  acc_train:0.9005  loss_dev:0.3959  acc_dev:0.8726\n",
            "epoch:10  loss_train:0.2200  acc_train:0.9190  loss_dev:0.3826  acc_dev:0.8808\n"
          ]
        }
      ]
    },
    {
      "cell_type": "markdown",
      "source": [
        "# **77. ミニバッチ化**"
      ],
      "metadata": {
        "id": "dYY4xNAnhxcN"
      }
    },
    {
      "cell_type": "code",
      "source": [
        "import time\n",
        "\n",
        "def train_model(train_dataset, dev_dataset, test_dataset, batch_size, model, criterion, optimizer, num_epochs):\n",
        "\n",
        "    train_loader = DataLoader(train_dataset, batch_size, shuffle=True)\n",
        "    dev_loader = DataLoader(dev_dataset, batch_size, shuffle=False)\n",
        "\n",
        "    log_train, log_dev = [], []\n",
        "    for i in range(num_epochs): #計測の効率化のため、1に設定している\n",
        "\n",
        "        #測定開始\n",
        "        start = time.time()\n",
        "\n",
        "        for batch in train_loader:\n",
        "            x, t = batch\n",
        "            y = model(x)\n",
        "            loss = criterion(y, t)\n",
        "            optimizer.zero_grad()\n",
        "            loss.backward()\n",
        "            optimizer.step()\n",
        "\n",
        "        loss_train, acc_train = calc_loss_accuracy(train_loader)\n",
        "        loss_dev, acc_dev = calc_loss_accuracy(dev_loader)\n",
        "        log_train.append([loss_train, acc_train])\n",
        "        log_dev.append([loss_dev, acc_dev])\n",
        "\n",
        "        # チェックポイント保存\n",
        "        torch.save({\"epoch\":i, \"model_state_dict\":model.state_dict(), \"optimizer_state_dict\":optimizer.state_dict()}, f\"checkpoint_{i+1}.pt\")\n",
        "\n",
        "        # 測定終了\n",
        "        end = time.time()\n",
        "\n",
        "        # ログ表示\n",
        "        print(f\"epoch:{i+1}  loss_train:{loss_train:.4f}  acc_train:{acc_train:.4f}  loss_dev:{loss_dev:.4f}  acc_dev:{acc_dev:.4f}  {end-start:.4f}sec\")"
      ],
      "metadata": {
        "id": "HypS4Fz5h3Oo"
      },
      "execution_count": null,
      "outputs": []
    },
    {
      "cell_type": "code",
      "source": [
        "model = Net()\n",
        "\n",
        "criterion = nn.CrossEntropyLoss() #損失関数\n",
        "\n",
        "optimizer = torch.optim.SGD(model.parameters(), lr=0.1) # 最適化手法\n",
        "\n",
        "for batch_size in [1, 2, 4, 8, 16, 32, 64]:\n",
        "    print(f\"バッチサイズ:{batch_size}\")\n",
        "    train_model(train, dev, test, batch_size, model, criterion, optimizer, 1)"
      ],
      "metadata": {
        "colab": {
          "base_uri": "https://localhost:8080/"
        },
        "id": "bl8ttWaIjycS",
        "outputId": "045ce795-2db9-4f48-d311-627f601feaaf"
      },
      "execution_count": null,
      "outputs": [
        {
          "output_type": "stream",
          "name": "stdout",
          "text": [
            "バッチサイズ:1\n",
            "epoch:1  loss_train:0.3630  acc_train:0.8810  loss_dev:0.3654  acc_dev:0.8771  8.7980sec\n",
            "バッチサイズ:2\n",
            "epoch:1  loss_train:0.3415  acc_train:0.8876  loss_dev:0.3535  acc_dev:0.8816  5.0508sec\n",
            "バッチサイズ:4\n",
            "epoch:1  loss_train:0.3312  acc_train:0.8871  loss_dev:0.3462  acc_dev:0.8817  2.6477sec\n",
            "バッチサイズ:8\n",
            "epoch:1  loss_train:0.3272  acc_train:0.8893  loss_dev:0.3442  acc_dev:0.8845  1.4938sec\n",
            "バッチサイズ:16\n",
            "epoch:1  loss_train:0.3255  acc_train:0.8902  loss_dev:0.3425  acc_dev:0.8834  0.8822sec\n",
            "バッチサイズ:32\n",
            "epoch:1  loss_train:0.3246  acc_train:0.8910  loss_dev:0.3423  acc_dev:0.8833  0.5970sec\n",
            "バッチサイズ:64\n",
            "epoch:1  loss_train:0.3245  acc_train:0.8907  loss_dev:0.3418  acc_dev:0.8845  0.4355sec\n"
          ]
        }
      ]
    },
    {
      "cell_type": "markdown",
      "source": [
        "# **78. GPU上での学習**"
      ],
      "metadata": {
        "id": "aUuwhmuFlt-a"
      }
    },
    {
      "cell_type": "code",
      "source": [
        "from torch import nn\n",
        "\n",
        "class Net(nn.Module):\n",
        "    def __init__(self):\n",
        "        super(Net, self).__init__()\n",
        "        self.fc = nn.Linear(300, 4)\n",
        "\n",
        "    def forward(self, x):\n",
        "        h = self.fc(x)\n",
        "        return h"
      ],
      "metadata": {
        "id": "XfgcOC3nl5OL"
      },
      "execution_count": null,
      "outputs": []
    },
    {
      "cell_type": "code",
      "source": [
        "import time\n",
        "\n",
        "def calc_loss_accuracy(loader, device):\n",
        "    with torch.no_grad():\n",
        "        acc_list = []\n",
        "        loss_list = []\n",
        "        for batch in loader:\n",
        "            x, t = batch\n",
        "            x = x.to(device)\n",
        "            t = t.to(device)\n",
        "            y = model(x)\n",
        "\n",
        "            # loss計算\n",
        "            loss = criterion(y, t).item()\n",
        "            loss_list.append(loss)\n",
        "\n",
        "            # accuracy計算\n",
        "            pred = torch.argmax(y, dim=1)\n",
        "            acc = (pred == t).sum().item() * 1.0 / len(t)\n",
        "            acc_list.append(acc)\n",
        "\n",
        "    return torch.tensor(loss_list).mean(), torch.tensor(acc_list).mean()\n",
        "\n",
        "def train_model(train_dataset, dev_dataset, test_dataset, batch_size, model, criterion, optimizer, num_epochs, device=None):\n",
        "    model.to(device)\n",
        "\n",
        "    train_loader = DataLoader(train_dataset, batch_size, shuffle=True)\n",
        "    dev_loader = DataLoader(dev_dataset, batch_size, shuffle=False)\n",
        "\n",
        "    log_train, log_dev = [], []\n",
        "    for i in range(num_epochs): #計測の効率化のため、1に設定している\n",
        "\n",
        "        #測定開始\n",
        "        start = time.time()\n",
        "\n",
        "        for batch in train_loader:\n",
        "            x, t = batch\n",
        "            x = x.to(device)\n",
        "            t = t.to(device)\n",
        "            y = model(x)\n",
        "            loss = criterion(y, t)\n",
        "            optimizer.zero_grad()\n",
        "            loss.backward()\n",
        "            optimizer.step()\n",
        "\n",
        "        loss_train, acc_train = calc_loss_accuracy(train_loader, device)\n",
        "        loss_dev, acc_dev = calc_loss_accuracy(dev_loader, device)\n",
        "        log_train.append([loss_train, acc_train])\n",
        "        log_dev.append([loss_dev, acc_dev])\n",
        "\n",
        "        # チェックポイント保存\n",
        "        torch.save({\"epoch\":i, \"model_state_dict\":model.state_dict(), \"optimizer_state_dict\":optimizer.state_dict()}, f\"checkpoint_{i+1}.pt\")\n",
        "\n",
        "        # 測定終了\n",
        "        end = time.time()\n",
        "\n",
        "        # ログ表示\n",
        "        print(f\"epoch:{i+1}  loss_train:{loss_train:.4f}  acc_train:{acc_train:.4f}  loss_dev:{loss_dev:.4f}  acc_dev:{acc_dev:.4f}  {end-start:.4f}sec\")"
      ],
      "metadata": {
        "id": "Lhl8-MYclyL3"
      },
      "execution_count": null,
      "outputs": []
    },
    {
      "cell_type": "code",
      "source": [
        "from torch.utils.data import TensorDataset\n",
        "from torch.utils.data import DataLoader\n",
        "\n",
        "train = TensorDataset(X_train, Y_train)\n",
        "dev = TensorDataset(X_dev, Y_dev)\n",
        "test = TensorDataset(X_test, Y_test)\n",
        "\n",
        "model = Net()\n",
        "\n",
        "criterion = nn.CrossEntropyLoss() #損失関数\n",
        "\n",
        "optimizer = torch.optim.SGD(model.parameters(), lr=0.1) # 最適化手法\n",
        "\n",
        "for batch_size in [1, 2, 4, 8, 16, 32, 64]:\n",
        "    print(f\"バッチサイズ:{batch_size}\")\n",
        "    train_model(train, dev, test, batch_size, model, criterion, optimizer, 1)"
      ],
      "metadata": {
        "id": "HWDlLsKZE1wh",
        "colab": {
          "base_uri": "https://localhost:8080/"
        },
        "outputId": "1a07c504-284c-49e5-deab-4ce5b758f30e"
      },
      "execution_count": null,
      "outputs": [
        {
          "output_type": "stream",
          "name": "stdout",
          "text": [
            "バッチサイズ:1\n",
            "epoch:1  loss_train:0.3855  acc_train:0.8758  loss_dev:0.3945  acc_dev:0.8681  6.8143sec\n",
            "バッチサイズ:2\n",
            "epoch:1  loss_train:0.3410  acc_train:0.8838  loss_dev:0.3556  acc_dev:0.8793  3.8293sec\n",
            "バッチサイズ:4\n",
            "epoch:1  loss_train:0.3348  acc_train:0.8847  loss_dev:0.3484  acc_dev:0.8795  2.0066sec\n",
            "バッチサイズ:8\n",
            "epoch:1  loss_train:0.3269  acc_train:0.8887  loss_dev:0.3437  acc_dev:0.8830  1.1427sec\n",
            "バッチサイズ:16\n",
            "epoch:1  loss_train:0.3254  acc_train:0.8915  loss_dev:0.3435  acc_dev:0.8842  0.6879sec\n",
            "バッチサイズ:32\n",
            "epoch:1  loss_train:0.3243  acc_train:0.8899  loss_dev:0.3422  acc_dev:0.8826  0.5552sec\n",
            "バッチサイズ:64\n",
            "epoch:1  loss_train:0.3238  acc_train:0.8904  loss_dev:0.3417  acc_dev:0.8837  0.3111sec\n"
          ]
        }
      ]
    },
    {
      "cell_type": "markdown",
      "source": [
        "# **79. 多層ニューラルネットワーク**"
      ],
      "metadata": {
        "id": "kLkr1JuIJ7iF"
      }
    },
    {
      "cell_type": "code",
      "source": [
        "from torch import nn\n",
        "from torch.nn import functional as F\n",
        "\n",
        "class Net(nn.Module):\n",
        "    def __init__(self):\n",
        "        super(Net, self).__init__()\n",
        "        self.fc1 = nn.Linear(300, 3000)\n",
        "        self.fc2 = nn.Linear(3000, 300)\n",
        "        self.fc3 = nn.Linear(300, 4)\n",
        "        self.do = nn.Dropout(0.1)\n",
        "\n",
        "\n",
        "    def forward(self, x):\n",
        "        h = F.relu(self.fc1(x))\n",
        "        h = self.do(h)\n",
        "        h = F.relu(self.fc2(h))\n",
        "        h = self.fc3(h)\n",
        "        return h"
      ],
      "metadata": {
        "id": "yhekGc27KB8F"
      },
      "execution_count": null,
      "outputs": []
    },
    {
      "cell_type": "code",
      "source": [
        "import time\n",
        "\n",
        "def calc_loss_accuracy(loader, device):\n",
        "    with torch.no_grad():\n",
        "        acc_list = []\n",
        "        loss_list = []\n",
        "        for batch in loader:\n",
        "            x, t = batch\n",
        "            x = x.to(device)\n",
        "            t = t.to(device)\n",
        "            y = model(x)\n",
        "\n",
        "            # loss計算\n",
        "            loss = criterion(y, t).item()\n",
        "            loss_list.append(loss)\n",
        "\n",
        "            # accuracy計算\n",
        "            pred = torch.argmax(y, dim=1)\n",
        "            acc = (pred == t).sum().item() * 1.0 / len(t)\n",
        "            acc_list.append(acc)\n",
        "\n",
        "    return torch.tensor(loss_list).mean(), torch.tensor(acc_list).mean()\n",
        "\n",
        "def train_model(train_dataset, dev_dataset, test_dataset, batch_size, model, criterion, optimizer, num_epochs, device=None):\n",
        "    model.to(device)\n",
        "\n",
        "    log_train, log_dev = [], []\n",
        "    for i in range(num_epochs):\n",
        "\n",
        "        #測定開始\n",
        "        start = time.time()\n",
        "\n",
        "        for batch in train_loader:\n",
        "            x, t = batch\n",
        "            x = x.to(device)\n",
        "            t = t.to(device)\n",
        "            y = model(x)\n",
        "            loss = criterion(y, t)\n",
        "            optimizer.zero_grad()\n",
        "            loss.backward()\n",
        "            optimizer.step()\n",
        "\n",
        "        loss_train, acc_train = calc_loss_accuracy(train_loader, device)\n",
        "        loss_dev, acc_dev = calc_loss_accuracy(dev_loader, device)\n",
        "        log_train.append([loss_train, acc_train])\n",
        "        log_dev.append([loss_dev, acc_dev])\n",
        "\n",
        "        # チェックポイント保存\n",
        "        torch.save({\"epoch\":i, \"model_state_dict\":model.state_dict(), \"optimizer_state_dict\":optimizer.state_dict()}, f\"checkpoint_{i+1}.pt\")\n",
        "\n",
        "        # 測定終了\n",
        "        end = time.time()\n",
        "\n",
        "        # ログ表示\n",
        "        print(f\"epoch:{i+1}  loss_train:{loss_train:.4f}  acc_train:{acc_train:.4f}  loss_dev:{loss_dev:.4f}  acc_dev:{acc_dev:.4f}  {end-start:.4f}sec\")\n",
        "\n",
        "        # 3回連続でdevのlossが下がらなかったら終わる\n",
        "        if i > 2 and log_dev[i - 3][0] <= log_dev[i - 2][0] <= log_dev[i - 1][0] <= log_dev[i][0]:\n",
        "            break"
      ],
      "metadata": {
        "id": "rIyUIaLNL9g7"
      },
      "execution_count": null,
      "outputs": []
    },
    {
      "cell_type": "code",
      "source": [
        "from torch.utils.data import TensorDataset\n",
        "from torch.utils.data import DataLoader\n",
        "\n",
        "train = TensorDataset(X_train, Y_train)\n",
        "dev = TensorDataset(X_dev, Y_dev)\n",
        "test = TensorDataset(X_test, Y_test)\n",
        "\n",
        "batch_size = 64\n",
        "\n",
        "train_loader = DataLoader(train, batch_size, shuffle=True)\n",
        "dev_loader = DataLoader(dev, batch_size, shuffle=False)\n",
        "test_loader = DataLoader(test, batch_size, shuffle=False)\n",
        "\n",
        "# モデルの定義\n",
        "model = Net()\n",
        "\n",
        "criterion = nn.CrossEntropyLoss() #損失関数\n",
        "\n",
        "optimizer = torch.optim.SGD(model.parameters(), lr=0.1) # 最適化手法\n",
        "\n",
        "# デバイスの指定\n",
        "device = torch.device(\"cuda\" if torch.cuda.is_available() else \"cpu\")\n",
        "\n",
        "train_model(train, dev, test, 64, model, criterion, optimizer, 30)"
      ],
      "metadata": {
        "colab": {
          "base_uri": "https://localhost:8080/"
        },
        "id": "5o4PtzVfKnW8",
        "outputId": "15da8847-c28e-4858-8912-586de3c3906f"
      },
      "execution_count": null,
      "outputs": [
        {
          "output_type": "stream",
          "name": "stdout",
          "text": [
            "epoch:1  loss_train:0.6703  acc_train:0.7768  loss_dev:0.6409  acc_dev:0.7858  0.8507sec\n",
            "epoch:2  loss_train:0.5404  acc_train:0.7923  loss_dev:0.5180  acc_dev:0.7989  0.8718sec\n",
            "epoch:3  loss_train:0.4610  acc_train:0.8389  loss_dev:0.4489  acc_dev:0.8506  0.9373sec\n",
            "epoch:4  loss_train:0.3943  acc_train:0.8757  loss_dev:0.3991  acc_dev:0.8734  0.9915sec\n",
            "epoch:5  loss_train:0.3607  acc_train:0.8764  loss_dev:0.3733  acc_dev:0.8672  1.2060sec\n",
            "epoch:6  loss_train:0.3382  acc_train:0.8839  loss_dev:0.3634  acc_dev:0.8800  0.9470sec\n",
            "epoch:7  loss_train:0.3046  acc_train:0.8973  loss_dev:0.3404  acc_dev:0.8824  0.9657sec\n",
            "epoch:8  loss_train:0.3218  acc_train:0.8852  loss_dev:0.3510  acc_dev:0.8861  1.2052sec\n",
            "epoch:9  loss_train:0.2877  acc_train:0.8991  loss_dev:0.3254  acc_dev:0.8897  1.0191sec\n",
            "epoch:10  loss_train:0.2861  acc_train:0.8997  loss_dev:0.3295  acc_dev:0.8911  1.0407sec\n",
            "epoch:11  loss_train:0.2698  acc_train:0.9078  loss_dev:0.3200  acc_dev:0.8972  0.8798sec\n",
            "epoch:12  loss_train:0.2749  acc_train:0.9019  loss_dev:0.3212  acc_dev:0.8971  0.8565sec\n",
            "epoch:13  loss_train:0.2589  acc_train:0.9083  loss_dev:0.3145  acc_dev:0.8934  0.8513sec\n",
            "epoch:14  loss_train:0.2513  acc_train:0.9143  loss_dev:0.3118  acc_dev:0.8944  0.8490sec\n",
            "epoch:15  loss_train:0.2491  acc_train:0.9157  loss_dev:0.3125  acc_dev:0.8959  0.8449sec\n",
            "epoch:16  loss_train:0.2485  acc_train:0.9152  loss_dev:0.3233  acc_dev:0.8868  0.8800sec\n",
            "epoch:17  loss_train:0.2362  acc_train:0.9195  loss_dev:0.3106  acc_dev:0.8922  0.8434sec\n",
            "epoch:18  loss_train:0.2314  acc_train:0.9207  loss_dev:0.3097  acc_dev:0.8958  0.8508sec\n",
            "epoch:19  loss_train:0.2504  acc_train:0.9112  loss_dev:0.3259  acc_dev:0.8907  0.8572sec\n",
            "epoch:20  loss_train:0.2200  acc_train:0.9243  loss_dev:0.3019  acc_dev:0.9008  0.8550sec\n",
            "epoch:21  loss_train:0.2326  acc_train:0.9204  loss_dev:0.3228  acc_dev:0.8870  0.8735sec\n",
            "epoch:22  loss_train:0.2334  acc_train:0.9168  loss_dev:0.3176  acc_dev:0.8958  0.9647sec\n",
            "epoch:23  loss_train:0.2080  acc_train:0.9300  loss_dev:0.3049  acc_dev:0.8978  0.9992sec\n",
            "epoch:24  loss_train:0.2126  acc_train:0.9262  loss_dev:0.3093  acc_dev:0.8980  0.9922sec\n",
            "epoch:25  loss_train:0.1996  acc_train:0.9353  loss_dev:0.3099  acc_dev:0.8944  1.0187sec\n",
            "epoch:26  loss_train:0.1946  acc_train:0.9340  loss_dev:0.3013  acc_dev:0.9048  0.8631sec\n",
            "epoch:27  loss_train:0.2052  acc_train:0.9318  loss_dev:0.3266  acc_dev:0.8818  0.8747sec\n",
            "epoch:28  loss_train:0.1878  acc_train:0.9368  loss_dev:0.3109  acc_dev:0.8914  0.8519sec\n",
            "epoch:29  loss_train:0.1755  acc_train:0.9425  loss_dev:0.2984  acc_dev:0.9069  0.8447sec\n",
            "epoch:30  loss_train:0.1748  acc_train:0.9453  loss_dev:0.3072  acc_dev:0.8974  0.8525sec\n"
          ]
        }
      ]
    },
    {
      "cell_type": "code",
      "source": [
        "model.to(device)\n",
        "\n",
        "_, train_accuracy = calc_loss_accuracy(train_loader, device)\n",
        "print(\"学習：\", train_accuracy.item())\n",
        "_, test_accuracy = calc_loss_accuracy(test_loader, device)\n",
        "print(\"評価：\", test_accuracy.item())"
      ],
      "metadata": {
        "colab": {
          "base_uri": "https://localhost:8080/"
        },
        "id": "yjvnPkhoTHcM",
        "outputId": "de40a6b8-7067-4b07-dd36-37a7a47d58d6"
      },
      "execution_count": null,
      "outputs": [
        {
          "output_type": "stream",
          "name": "stdout",
          "text": [
            "学習： 0.9468875527381897\n",
            "評価： 0.8944003582000732\n"
          ]
        }
      ]
    }
  ]
}