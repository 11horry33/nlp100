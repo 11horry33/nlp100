{
  "nbformat": 4,
  "nbformat_minor": 0,
  "metadata": {
    "colab": {
      "provenance": []
    },
    "kernelspec": {
      "name": "python3",
      "display_name": "Python 3"
    },
    "language_info": {
      "name": "python"
    }
  },
  "cells": [
    {
      "cell_type": "markdown",
      "source": [
        "# **50. データの入手・整形**"
      ],
      "metadata": {
        "id": "V3i7Vw2-Viro"
      }
    },
    {
      "cell_type": "code",
      "source": [
        "!wget https://archive.ics.uci.edu/ml/machine-learning-databases/00359/NewsAggregatorDataset.zip\n",
        "!unzip NewsAggregatorDataset.zip"
      ],
      "metadata": {
        "colab": {
          "base_uri": "https://localhost:8080/"
        },
        "id": "f7W8NwL_V7G4",
        "outputId": "d37058c3-05d4-4011-dcdd-3ab638b02525"
      },
      "execution_count": 1,
      "outputs": [
        {
          "output_type": "stream",
          "name": "stdout",
          "text": [
            "--2023-02-25 14:01:46--  https://archive.ics.uci.edu/ml/machine-learning-databases/00359/NewsAggregatorDataset.zip\n",
            "Resolving archive.ics.uci.edu (archive.ics.uci.edu)... 128.195.10.252\n",
            "Connecting to archive.ics.uci.edu (archive.ics.uci.edu)|128.195.10.252|:443... connected.\n",
            "HTTP request sent, awaiting response... 200 OK\n",
            "Length: 29224203 (28M) [application/x-httpd-php]\n",
            "Saving to: ‘NewsAggregatorDataset.zip’\n",
            "\n",
            "NewsAggregatorDatas 100%[===================>]  27.87M  33.5MB/s    in 0.8s    \n",
            "\n",
            "2023-02-25 14:01:47 (33.5 MB/s) - ‘NewsAggregatorDataset.zip’ saved [29224203/29224203]\n",
            "\n",
            "Archive:  NewsAggregatorDataset.zip\n",
            "  inflating: 2pageSessions.csv       \n",
            "   creating: __MACOSX/\n",
            "  inflating: __MACOSX/._2pageSessions.csv  \n",
            "  inflating: newsCorpora.csv         \n",
            "  inflating: __MACOSX/._newsCorpora.csv  \n",
            "  inflating: readme.txt              \n",
            "  inflating: __MACOSX/._readme.txt   \n"
          ]
        }
      ]
    },
    {
      "cell_type": "code",
      "source": [
        "import pandas as pd\n",
        "from sklearn.model_selection import train_test_split\n",
        "\n",
        "# データの読み込み\n",
        "df = pd.read_csv(\"newsCorpora.csv\", sep=\"\\t\", names=(\"ID\",\"TITLE\",\"URL\",\"PUBLISHER\",\"CATEGORY\",\"STORY\",\"HOSTNAME\",\"TIMESTAMP\"))\n",
        "\n",
        "# \"TITLE\"と\"CATEGORY\"を抽出\n",
        "data = df.loc[df[\"PUBLISHER\"].isin([\"Reuters\",\"Huffington Post\",\"Businessweek\",\"Contactmusic.com\",\"Daily Mail\"]), [\"TITLE\",\"CATEGORY\"]]\n",
        "\n",
        "# データ分割　学習:検証:テスト=8:1:1\n",
        "train, others = train_test_split(data, test_size=0.2, random_state=0, shuffle=True)\n",
        "dev, test = train_test_split(others, test_size=0.5, random_state=0, shuffle=True)\n",
        "\n",
        "# ファイルに保存\n",
        "train.to_csv(\"train.txt\", sep=\"\\t\", index=None)\n",
        "dev.to_csv(\"dev.txt\", sep=\"\\t\", index=None)\n",
        "test.to_csv(\"test.txt\", sep=\"\\t\", index=None)\n",
        "\n",
        "# 事例数の確認\n",
        "print(f'学習データの事例数\\n{train[\"CATEGORY\"].value_counts()}\\n')\n",
        "print(f'検証データの事例数\\n{dev[\"CATEGORY\"].value_counts()}\\n')\n",
        "print(f'テストデータの事例数\\n{test[\"CATEGORY\"].value_counts()}\\n')"
      ],
      "metadata": {
        "id": "cikGoAMcVoKI",
        "colab": {
          "base_uri": "https://localhost:8080/"
        },
        "outputId": "392ffa66-4588-44be-e7e5-aadb3fd8795e"
      },
      "execution_count": 2,
      "outputs": [
        {
          "output_type": "stream",
          "name": "stdout",
          "text": [
            "学習データの事例数\n",
            "b    4481\n",
            "e    4240\n",
            "t    1214\n",
            "m     737\n",
            "Name: CATEGORY, dtype: int64\n",
            "\n",
            "検証データの事例数\n",
            "b    575\n",
            "e    528\n",
            "t    137\n",
            "m     94\n",
            "Name: CATEGORY, dtype: int64\n",
            "\n",
            "テストデータの事例数\n",
            "b    571\n",
            "e    511\n",
            "t    173\n",
            "m     79\n",
            "Name: CATEGORY, dtype: int64\n",
            "\n"
          ]
        }
      ]
    },
    {
      "cell_type": "markdown",
      "source": [
        "# **51. 特徴量抽出**\n"
      ],
      "metadata": {
        "id": "GEdyt34zmcSy"
      }
    },
    {
      "cell_type": "code",
      "source": [
        "import string\n",
        "import re\n",
        "\n",
        "def preprocessing(text):\n",
        "  table = str.maketrans(string.punctuation, ' '*len(string.punctuation))\n",
        "  text = text.translate(table)  # 記号をスペースに置換\n",
        "  text = text.lower()  # 小文字化\n",
        "  text = re.sub('[0-9]+', '', text)  # 数字除去\n",
        "  return text"
      ],
      "metadata": {
        "id": "iq3VA57CoHkb"
      },
      "execution_count": 3,
      "outputs": []
    },
    {
      "cell_type": "code",
      "source": [
        "from sklearn.feature_extraction.text import TfidfVectorizer\n",
        "\n",
        "# 前処理\n",
        "train[\"TITLE\"] = train[\"TITLE\"].map(lambda x: preprocessing(x))\n",
        "dev[\"TITLE\"] = dev[\"TITLE\"].map(lambda x: preprocessing(x))\n",
        "test[\"TITLE\"] = test[\"TITLE\"].map(lambda x: preprocessing(x))\n",
        "\n",
        "# TfidfVectorizerでベクトル化\n",
        "vectorizer = TfidfVectorizer(max_features=3000)\n",
        "X_train = vectorizer.fit_transform(train[\"TITLE\"])\n",
        "X_dev = vectorizer.transform(dev[\"TITLE\"])\n",
        "X_test = vectorizer.transform(test[\"TITLE\"])\n",
        "\n",
        "# データ変換\n",
        "X_train = pd.DataFrame(X_train.toarray(), columns=vectorizer.get_feature_names())\n",
        "X_dev = pd.DataFrame(X_dev.toarray(), columns=vectorizer.get_feature_names())\n",
        "X_test = pd.DataFrame(X_test.toarray(), columns=vectorizer.get_feature_names())\n",
        "\n",
        "# ファイルに保存\n",
        "X_train.to_csv(\"train.feature.txt\", sep=\"\\t\", index=False)\n",
        "X_dev.to_csv(\"dev.feature.txt\", sep=\"\\t\", index=False)\n",
        "X_test.to_csv(\"test.feature.txt\", sep=\"\\t\", index=False)"
      ],
      "metadata": {
        "id": "AyF0eKdLVI8V",
        "colab": {
          "base_uri": "https://localhost:8080/"
        },
        "outputId": "5c6140ef-90fe-4f57-cb04-aeda57ee5cef"
      },
      "execution_count": 4,
      "outputs": [
        {
          "output_type": "stream",
          "name": "stderr",
          "text": [
            "/usr/local/lib/python3.8/dist-packages/sklearn/utils/deprecation.py:87: FutureWarning: Function get_feature_names is deprecated; get_feature_names is deprecated in 1.0 and will be removed in 1.2. Please use get_feature_names_out instead.\n",
            "  warnings.warn(msg, category=FutureWarning)\n"
          ]
        }
      ]
    },
    {
      "cell_type": "markdown",
      "source": [
        "# **52. 学習**"
      ],
      "metadata": {
        "id": "AKR7TVu7ayqu"
      }
    },
    {
      "cell_type": "code",
      "source": [
        "from sklearn.linear_model import LogisticRegression\n",
        "\n",
        "model = LogisticRegression(random_state=0, max_iter=1000)\n",
        "model.fit(X_train, train[\"CATEGORY\"])"
      ],
      "metadata": {
        "colab": {
          "base_uri": "https://localhost:8080/"
        },
        "id": "vhrkPLKMa2Fp",
        "outputId": "e78a9a52-099e-44df-abeb-424d9cb8648f"
      },
      "execution_count": 10,
      "outputs": [
        {
          "output_type": "execute_result",
          "data": {
            "text/plain": [
              "LogisticRegression(max_iter=1000, random_state=0)"
            ]
          },
          "metadata": {},
          "execution_count": 10
        }
      ]
    },
    {
      "cell_type": "markdown",
      "source": [
        "# **53. 予測**"
      ],
      "metadata": {
        "id": "3St3vjZ3bf5N"
      }
    },
    {
      "cell_type": "code",
      "source": [
        "import numpy as np\n",
        "\n",
        "def prediction(model, X):\n",
        "    return [np.max(model.predict_proba(X), axis=1), model.predict(X)]\n",
        "\n",
        "train_pred = prediction(model, X_train)\n",
        "test_pred = prediction(model, X_test)"
      ],
      "metadata": {
        "id": "fJx6WrTzcJNw"
      },
      "execution_count": 11,
      "outputs": []
    },
    {
      "cell_type": "markdown",
      "source": [
        "# **54. 正解率の計測**"
      ],
      "metadata": {
        "id": "hDxeZeDueVFL"
      }
    },
    {
      "cell_type": "code",
      "source": [
        "from sklearn.metrics import accuracy_score\n",
        "\n",
        "print(f'正解率（検証データ）：{accuracy_score(train_pred[1], train[\"CATEGORY\"])}')\n",
        "print(f'正解率（テストデータ）：{accuracy_score(test_pred[1], test[\"CATEGORY\"])}')"
      ],
      "metadata": {
        "colab": {
          "base_uri": "https://localhost:8080/"
        },
        "id": "v6-7l4b9eZJR",
        "outputId": "4c09c455-1201-4f55-a1c3-1e72d35e0d53"
      },
      "execution_count": 12,
      "outputs": [
        {
          "output_type": "stream",
          "name": "stdout",
          "text": [
            "正解率（検証データ）：0.9320652173913043\n",
            "正解率（テストデータ）：0.8755622188905547\n"
          ]
        }
      ]
    },
    {
      "cell_type": "markdown",
      "source": [
        "# **55. 混同行列の作成**"
      ],
      "metadata": {
        "id": "2M2ov6Vo1Z7-"
      }
    },
    {
      "cell_type": "code",
      "source": [
        "from sklearn.metrics import confusion_matrix\n",
        "import seaborn as sns\n",
        "import matplotlib.pyplot as plt\n",
        "\n",
        "labels = [\"b\",\"e\",\"t\",\"m\"]\n",
        "train_cm = confusion_matrix(train[\"CATEGORY\"], train_pred[1])\n",
        "ax1 = sns.heatmap(train_cm, annot=True, cmap='Blues', xticklabels=labels, yticklabels=labels)\n",
        "ax1.set_title(\"Train\")\n",
        "ax1.set_xlabel(\"Pred\")\n",
        "ax1.set_ylabel(\"True\")\n",
        "plt.show()\n",
        "\n",
        "test_cm = confusion_matrix(test[\"CATEGORY\"], test_pred[1])\n",
        "ax2 = sns.heatmap(test_cm, annot=True, cmap='Blues', xticklabels=labels, yticklabels=labels)\n",
        "ax2.set_title(\"Test\")\n",
        "ax2.set_xlabel(\"Pred\")\n",
        "ax2.set_ylabel(\"True\")\n",
        "plt.show()"
      ],
      "metadata": {
        "colab": {
          "base_uri": "https://localhost:8080/",
          "height": 573
        },
        "id": "8wbWaSOD2O5y",
        "outputId": "7997065c-45c4-48ed-d2f1-d1d9c6b93ee4"
      },
      "execution_count": 13,
      "outputs": [
        {
          "output_type": "display_data",
          "data": {
            "text/plain": [
              "<Figure size 432x288 with 2 Axes>"
            ],
            "image/png": "[encoded data removed]"
          },
          "metadata": {
            "needs_background": "light"
          }
        },
        {
          "output_type": "display_data",
          "data": {
            "text/plain": [
              "<Figure size 432x288 with 2 Axes>"
            ],
            "image/png": "[encoded data removed]"
          },
          "metadata": {
            "needs_background": "light"
          }
        }
      ]
    },
    {
      "cell_type": "markdown",
      "source": [
        "# **56. 適合率，再現率，F1スコアの計測**"
      ],
      "metadata": {
        "id": "g3LAG1M15-XL"
      }
    },
    {
      "cell_type": "code",
      "source": [
        "from IPython.display import display\n",
        "from sklearn.metrics import precision_score\n",
        "from sklearn.metrics import recall_score\n",
        "from sklearn.metrics import f1_score\n",
        "\n",
        "labels = [\"b\",\"e\",\"t\",\"m\"]\n",
        "precision = precision_score(test[\"CATEGORY\"], test_pred[1], average=None, labels=labels)\n",
        "precision_micro = precision_score(test[\"CATEGORY\"], test_pred[1], average=\"micro\")\n",
        "precision_macro = precision_score(test[\"CATEGORY\"], test_pred[1], average=\"macro\")\n",
        "precision = np.append(precision, [precision_micro, precision_macro])\n",
        "\n",
        "recall = recall_score(test[\"CATEGORY\"], test_pred[1], average=None, labels=labels)\n",
        "recall_micro = recall_score(test[\"CATEGORY\"], test_pred[1], average=\"micro\")\n",
        "recall_macro = recall_score(test[\"CATEGORY\"], test_pred[1], average=\"macro\")\n",
        "recall = np.append(recall, [recall_micro, recall_macro])\n",
        "\n",
        "f1 = f1_score(test[\"CATEGORY\"], test_pred[1], average=None, labels=labels)\n",
        "f1_micro = f1_score(test[\"CATEGORY\"], test_pred[1], average=\"micro\")\n",
        "f1_macro = f1_score(test[\"CATEGORY\"], test_pred[1], average=\"macro\")\n",
        "f1 = np.append(f1, [f1_micro, f1_macro])\n",
        "\n",
        "result = pd.DataFrame({\"x\":precision, \"y\":recall, \"z\":f1},\n",
        "                      index=[\"b\",\"e\",\"t\",\"m\",\"マイクロ平均\",\"マクロ平均\"])\n",
        "\n",
        "display(result)"
      ],
      "metadata": {
        "colab": {
          "base_uri": "https://localhost:8080/",
          "height": 237
        },
        "id": "fNM5KqSy6COh",
        "outputId": "3164bb61-8f3c-4a57-82dc-48804c9af250"
      },
      "execution_count": 14,
      "outputs": [
        {
          "output_type": "display_data",
          "data": {
            "text/plain": [
              "               x         y         z\n",
              "b       0.888333  0.933450  0.910333\n",
              "e       0.857391  0.964775  0.907919\n",
              "t       0.873874  0.560694  0.683099\n",
              "m       0.937500  0.569620  0.708661\n",
              "マイクロ平均  0.875562  0.875562  0.875562\n",
              "マクロ平均   0.889275  0.757135  0.802503"
            ],
            "text/html": [
              "\n",
              "  <div id=\"df-dfa2058a-0898-48c0-abf9-edc3a0646b89\">\n",
              "    <div class=\"colab-df-container\">\n",
              "      <div>\n",
              "<style scoped>\n",
              "    .dataframe tbody tr th:only-of-type {\n",
              "        vertical-align: middle;\n",
              "    }\n",
              "\n",
              "    .dataframe tbody tr th {\n",
              "        vertical-align: top;\n",
              "    }\n",
              "\n",
              "    .dataframe thead th {\n",
              "        text-align: right;\n",
              "    }\n",
              "</style>\n",
              "<table border=\"1\" class=\"dataframe\">\n",
              "  <thead>\n",
              "    <tr style=\"text-align: right;\">\n",
              "      <th></th>\n",
              "      <th>x</th>\n",
              "      <th>y</th>\n",
              "      <th>z</th>\n",
              "    </tr>\n",
              "  </thead>\n",
              "  <tbody>\n",
              "    <tr>\n",
              "      <th>b</th>\n",
              "      <td>0.888333</td>\n",
              "      <td>0.933450</td>\n",
              "      <td>0.910333</td>\n",
              "    </tr>\n",
              "    <tr>\n",
              "      <th>e</th>\n",
              "      <td>0.857391</td>\n",
              "      <td>0.964775</td>\n",
              "      <td>0.907919</td>\n",
              "    </tr>\n",
              "    <tr>\n",
              "      <th>t</th>\n",
              "      <td>0.873874</td>\n",
              "      <td>0.560694</td>\n",
              "      <td>0.683099</td>\n",
              "    </tr>\n",
              "    <tr>\n",
              "      <th>m</th>\n",
              "      <td>0.937500</td>\n",
              "      <td>0.569620</td>\n",
              "      <td>0.708661</td>\n",
              "    </tr>\n",
              "    <tr>\n",
              "      <th>マイクロ平均</th>\n",
              "      <td>0.875562</td>\n",
              "      <td>0.875562</td>\n",
              "      <td>0.875562</td>\n",
              "    </tr>\n",
              "    <tr>\n",
              "      <th>マクロ平均</th>\n",
              "      <td>0.889275</td>\n",
              "      <td>0.757135</td>\n",
              "      <td>0.802503</td>\n",
              "    </tr>\n",
              "  </tbody>\n",
              "</table>\n",
              "</div>\n",
              "      <button class=\"colab-df-convert\" onclick=\"convertToInteractive('df-dfa2058a-0898-48c0-abf9-edc3a0646b89')\"\n",
              "              title=\"Convert this dataframe to an interactive table.\"\n",
              "              style=\"display:none;\">\n",
              "        \n",
              "  <svg xmlns=\"http://www.w3.org/2000/svg\" height=\"24px\"viewBox=\"0 0 24 24\"\n",
              "       width=\"24px\">\n",
              "    <path d=\"M0 0h24v24H0V0z\" fill=\"none\"/>\n",
              "    <path d=\"M18.56 5.44l.94 2.06.94-2.06 2.06-.94-2.06-.94-.94-2.06-.94 2.06-2.06.94zm-11 1L8.5 8.5l.94-2.06 2.06-.94-2.06-.94L8.5 2.5l-.94 2.06-2.06.94zm10 10l.94 2.06.94-2.06 2.06-.94-2.06-.94-.94-2.06-.94 2.06-2.06.94z\"/><path d=\"M17.41 7.96l-1.37-1.37c-.4-.4-.92-.59-1.43-.59-.52 0-1.04.2-1.43.59L10.3 9.45l-7.72 7.72c-.78.78-.78 2.05 0 2.83L4 21.41c.39.39.9.59 1.41.59.51 0 1.02-.2 1.41-.59l7.78-7.78 2.81-2.81c.8-.78.8-2.07 0-2.86zM5.41 20L4 18.59l7.72-7.72 1.47 1.35L5.41 20z\"/>\n",
              "  </svg>\n",
              "      </button>\n",
              "      \n",
              "  <style>\n",
              "    .colab-df-container {\n",
              "      display:flex;\n",
              "      flex-wrap:wrap;\n",
              "      gap: 12px;\n",
              "    }\n",
              "\n",
              "    .colab-df-convert {\n",
              "      background-color: #E8F0FE;\n",
              "      border: none;\n",
              "      border-radius: 50%;\n",
              "      cursor: pointer;\n",
              "      display: none;\n",
              "      fill: #1967D2;\n",
              "      height: 32px;\n",
              "      padding: 0 0 0 0;\n",
              "      width: 32px;\n",
              "    }\n",
              "\n",
              "    .colab-df-convert:hover {\n",
              "      background-color: #E2EBFA;\n",
              "      box-shadow: 0px 1px 2px rgba(60, 64, 67, 0.3), 0px 1px 3px 1px rgba(60, 64, 67, 0.15);\n",
              "      fill: #174EA6;\n",
              "    }\n",
              "\n",
              "    [theme=dark] .colab-df-convert {\n",
              "      background-color: #3B4455;\n",
              "      fill: #D2E3FC;\n",
              "    }\n",
              "\n",
              "    [theme=dark] .colab-df-convert:hover {\n",
              "      background-color: #434B5C;\n",
              "      box-shadow: 0px 1px 3px 1px rgba(0, 0, 0, 0.15);\n",
              "      filter: drop-shadow(0px 1px 2px rgba(0, 0, 0, 0.3));\n",
              "      fill: #FFFFFF;\n",
              "    }\n",
              "  </style>\n",
              "\n",
              "      <script>\n",
              "        const buttonEl =\n",
              "          document.querySelector('#df-dfa2058a-0898-48c0-abf9-edc3a0646b89 button.colab-df-convert');\n",
              "        buttonEl.style.display =\n",
              "          google.colab.kernel.accessAllowed ? 'block' : 'none';\n",
              "\n",
              "        async function convertToInteractive(key) {\n",
              "          const element = document.querySelector('#df-dfa2058a-0898-48c0-abf9-edc3a0646b89');\n",
              "          const dataTable =\n",
              "            await google.colab.kernel.invokeFunction('convertToInteractive',\n",
              "                                                     [key], {});\n",
              "          if (!dataTable) return;\n",
              "\n",
              "          const docLinkHtml = 'Like what you see? Visit the ' +\n",
              "            '<a target=\"_blank\" href=https://colab.research.google.com/notebooks/data_table.ipynb>data table notebook</a>'\n",
              "            + ' to learn more about interactive tables.';\n",
              "          element.innerHTML = '';\n",
              "          dataTable['output_type'] = 'display_data';\n",
              "          await google.colab.output.renderOutput(dataTable, element);\n",
              "          const docLink = document.createElement('div');\n",
              "          docLink.innerHTML = docLinkHtml;\n",
              "          element.appendChild(docLink);\n",
              "        }\n",
              "      </script>\n",
              "    </div>\n",
              "  </div>\n",
              "  "
            ]
          },
          "metadata": {}
        }
      ]
    },
    {
      "cell_type": "markdown",
      "source": [
        "# **57. 特徴量の重みの確認**"
      ],
      "metadata": {
        "id": "jYQMklmD40Ht"
      }
    },
    {
      "cell_type": "markdown",
      "source": [
        "* classes_：クラスのリスト\n",
        "* coef_：クラスごとの各特徴量の重み"
      ],
      "metadata": {
        "id": "WmAW2WoZ8HhJ"
      }
    },
    {
      "cell_type": "code",
      "source": [
        "features = X_train.columns.tolist()\n",
        "for c, coef in zip(model.classes_, model.coef_):\n",
        "    features_values = []\n",
        "    for feature, value in zip(features, coef):\n",
        "        features_values.append([feature, value])\n",
        "    sorted_features_values = sorted(features_values, key=lambda x:x[1])\n",
        "    best10 = sorted_features_values[::-1][:10]\n",
        "    worst10 = sorted_features_values[:10]\n",
        "    print(f'クラス：{c}')\n",
        "    print(f'  トップ10：{best10}')\n",
        "    print(f'ワースト10：{worst10}\\n')"
      ],
      "metadata": {
        "colab": {
          "base_uri": "https://localhost:8080/"
        },
        "id": "BK0NhxM543Tr",
        "outputId": "daa8f761-2f24-436b-b9d8-10d006f0bdf1"
      },
      "execution_count": 28,
      "outputs": [
        {
          "output_type": "stream",
          "name": "stdout",
          "text": [
            "クラス：b\n",
            "  トップ10：[['bank', 3.3481437770604234], ['fed', 3.286937393706155], ['china', 3.2269269839852455], ['stocks', 3.1216289857211414], ['ecb', 3.107436446595023], ['euro', 2.777518433229443], ['ukraine', 2.498549785847966], ['dollar', 2.4260299585620384], ['profit', 2.3827051175403793], ['oil', 2.378680585096066]]\n",
            "ワースト10：[['ebola', -1.964941984768087], ['video', -1.822428820452273], ['her', -1.8224007244344014], ['and', -1.8221787372406315], ['she', -1.743441090031147], ['star', -1.6955395462454423], ['study', -1.6296234150382505], ['drug', -1.5830881709557385], ['virus', -1.5827307233441765], ['microsoft', -1.5698249913841467]]\n",
            "\n",
            "クラス：e\n",
            "  トップ10：[['kardashian', 3.10662202824927], ['chris', 2.710382708011364], ['kim', 2.4091888944715665], ['miley', 2.37395778857189], ['star', 2.3369210627188712], ['movie', 2.3190027066790013], ['cyrus', 2.3157438937286345], ['film', 2.246781323102267], ['paul', 2.1948633070650017], ['she', 2.186950969345273]]\n",
            "ワースト10：[['update', -3.2126083322547605], ['us', -2.9341691300159876], ['google', -2.8301921672545998], ['china', -2.343268257176644], ['facebook', -2.1794285000964155], ['gm', -2.119076051994064], ['ceo', -2.0516184807008258], ['study', -2.039644243271424], ['apple', -1.9633243575036328], ['says', -1.9377779778479118]]\n",
            "\n",
            "クラス：m\n",
            "  トップ10：[['ebola', 4.599727658771806], ['study', 3.789606319329315], ['fda', 3.772827829553804], ['cancer', 3.725533853592047], ['drug', 3.432742571448382], ['mers', 3.142485051634241], ['health', 2.6712687063797644], ['cdc', 2.3248914887709096], ['cigarettes', 2.3038369538627967], ['brain', 2.271462972315079]]\n",
            "ワースト10：[['facebook', -1.213253292621273], ['google', -1.1358132667968122], ['gm', -1.088270415178701], ['ceo', -0.9767460634740861], ['apple', -0.960683838528748], ['climate', -0.9458322996357986], ['bank', -0.8883137271698142], ['twitter', -0.8670349354423219], ['sales', -0.8611495425484623], ['deal', -0.764903581834897]]\n",
            "\n",
            "クラス：t\n",
            "  トップ10：[['google', 5.217286917329283], ['facebook', 4.743256006244583], ['apple', 4.402868220105627], ['microsoft', 4.012791137887458], ['climate', 3.5995423409666847], ['tesla', 2.8744275442492415], ['gm', 2.8528955993169958], ['comcast', 2.6929832952544484], ['moon', 2.584370243581245], ['heartbleed', 2.539516668055369]]\n",
            "ワースト10：[['stocks', -1.4963803503004145], ['day', -1.2194672003919131], ['fed', -1.1929511996222684], ['her', -1.133510734447574], ['american', -1.0588610998628736], ['cancer', -1.0514703921547646], ['drug', -0.9924407490245837], ['ecb', -0.9773082550150208], ['ukraine', -0.9608219950981169], ['shares', -0.9447094689870642]]\n",
            "\n"
          ]
        }
      ]
    },
    {
      "cell_type": "markdown",
      "source": [
        "# **58. 正則化パラメータの変更**"
      ],
      "metadata": {
        "id": "g8dX7TPFDYRp"
      }
    },
    {
      "cell_type": "code",
      "source": [
        "\n",
        "results = []\n",
        "for c in [0.0001, 0.001, 0.01, 0.1, 1, 10, 100]:\n",
        "    # 学習\n",
        "    model = LogisticRegression(C=c, random_state=0, max_iter=1000)\n",
        "    model.fit(X_train, train[\"CATEGORY\"])\n",
        "\n",
        "    # 予測\n",
        "    train_pred = model.predict(X_train)\n",
        "    dev_pred = model.predict(X_dev)\n",
        "    test_pred = model.predict(X_test)\n",
        "\n",
        "    # 正解率の算出\n",
        "    train_acc = accuracy_score(train_pred, train[\"CATEGORY\"])\n",
        "    dev_acc = accuracy_score(dev_pred, dev[\"CATEGORY\"])\n",
        "    test_acc = accuracy_score(test_pred, test[\"CATEGORY\"])\n",
        "\n",
        "    results.append([c, train_acc, dev_acc, test_acc])"
      ],
      "metadata": {
        "id": "lSPS9vbtDdfb"
      },
      "execution_count": 43,
      "outputs": []
    },
    {
      "cell_type": "code",
      "source": [
        "results = np.array(results).T\n",
        "plt.plot(results[0], results[1], label=\"train\", color=\"red\")\n",
        "plt.plot(results[0], results[2], label=\"dev\", color=\"blue\")\n",
        "plt.plot(results[0], results[3], label=\"test\", color=\"green\")\n",
        "plt.xlabel(\"C\")\n",
        "plt.ylabel(\"Accuracy\")\n",
        "plt.xscale(\"log\")\n",
        "plt.legend()\n",
        "plt.show()"
      ],
      "metadata": {
        "colab": {
          "base_uri": "https://localhost:8080/",
          "height": 283
        },
        "id": "7_NLQfuzHDQD",
        "outputId": "dba9b885-7ad2-4ef2-9467-e7c63ed6318e"
      },
      "execution_count": 44,
      "outputs": [
        {
          "output_type": "display_data",
          "data": {
            "text/plain": [
              "<Figure size 432x288 with 1 Axes>"
            ],
            "image/png": "[encoded data removed]"
          },
          "metadata": {
            "needs_background": "light"
          }
        }
      ]
    },
    {
      "cell_type": "markdown",
      "source": [
        "# **59. ハイパーパラメータの探索**"
      ],
      "metadata": {
        "id": "OPX2FltAJwAC"
      }
    },
    {
      "cell_type": "code",
      "source": [
        "import itertools\n",
        "\n",
        "best_acc = 0\n",
        "best_c = 1\n",
        "best_solver = \"saga\"\n",
        "C = [0.01, 0.1, 1, 5, 10]\n",
        "solvers = [\"saga\", \"newton-cg\", \"lbfgs\", \"liblinear\"]\n",
        "params = itertools.product(C, solvers)\n",
        "for c, solver in params:\n",
        "    model = LogisticRegression(C=c, solver=solver, random_state=0, max_iter=1000)\n",
        "    model.fit(X_train, train[\"CATEGORY\"])\n",
        "    y_pred = model.predict(X_dev)\n",
        "    acc = accuracy_score(y_pred, dev[\"CATEGORY\"])\n",
        "    if acc > best_acc:\n",
        "        best_acc = acc\n",
        "        best_c = c\n",
        "        best_solver = solver\n",
        "    print(\"正解率 = %.3f  C = %s　solver = %s\" % (acc, str(c), solver))\n",
        "print(\"最適なハイパーパラメタは C = %s solver = %s\" % (str(best_c), best_solver))"
      ],
      "metadata": {
        "colab": {
          "base_uri": "https://localhost:8080/"
        },
        "id": "C0dOlbZ6Hvh9",
        "outputId": "a112b074-96fa-4941-9c15-dfbf1014f55f"
      },
      "execution_count": 49,
      "outputs": [
        {
          "output_type": "stream",
          "name": "stdout",
          "text": [
            "正解率 = 0.776  C = 0.01　solver = saga\n",
            "正解率 = 0.776  C = 0.01　solver = newton-cg\n",
            "正解率 = 0.776  C = 0.01　solver = lbfgs\n",
            "正解率 = 0.766  C = 0.01　solver = liblinear\n",
            "正解率 = 0.816  C = 0.1　solver = saga\n",
            "正解率 = 0.816  C = 0.1　solver = newton-cg\n",
            "正解率 = 0.816  C = 0.1　solver = lbfgs\n",
            "正解率 = 0.801  C = 0.1　solver = liblinear\n",
            "正解率 = 0.895  C = 1　solver = saga\n",
            "正解率 = 0.895  C = 1　solver = newton-cg\n",
            "正解率 = 0.895  C = 1　solver = lbfgs\n",
            "正解率 = 0.891  C = 1　solver = liblinear\n",
            "正解率 = 0.906  C = 5　solver = saga\n",
            "正解率 = 0.906  C = 5　solver = newton-cg\n",
            "正解率 = 0.906  C = 5　solver = lbfgs\n",
            "正解率 = 0.911  C = 5　solver = liblinear\n",
            "正解率 = 0.904  C = 10　solver = saga\n",
            "正解率 = 0.904  C = 10　solver = newton-cg\n",
            "正解率 = 0.904  C = 10　solver = lbfgs\n",
            "正解率 = 0.909  C = 10　solver = liblinear\n",
            "最適なハイパーパラメタは C = 5 solver = liblinear\n"
          ]
        }
      ]
    },
    {
      "cell_type": "code",
      "source": [
        "model = LogisticRegression(C=best_c, solver=best_solver, random_state=0, max_iter=1000)\n",
        "model.fit(X_train, train[\"CATEGORY\"])\n",
        "y_pred = model.predict(X_test)\n",
        "acc = accuracy_score(y_pred, test[\"CATEGORY\"])\n",
        "print(f'test:{acc}')"
      ],
      "metadata": {
        "colab": {
          "base_uri": "https://localhost:8080/"
        },
        "id": "Up1ff4ORPU_O",
        "outputId": "127139f0-324e-4620-f180-6f0456be0d4e"
      },
      "execution_count": 50,
      "outputs": [
        {
          "output_type": "stream",
          "name": "stdout",
          "text": [
            "test:0.8935532233883059\n"
          ]
        }
      ]
    },
    {
      "cell_type": "markdown",
      "source": [
        "デフォルトより0.02上がった。"
      ],
      "metadata": {
        "id": "vNvXSpDQP9Z3"
      }
    }
  ]
}